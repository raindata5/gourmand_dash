{
 "cells": [
  {
   "cell_type": "code",
   "execution_count": 1,
   "id": "anticipated-soldier",
   "metadata": {},
   "outputs": [],
   "source": [
    "import dash\n",
    "import dash_html_components as html\n",
    "import dash_bootstrap_components as dbc\n",
    "from jupyter_dash import JupyterDash\n",
    "import dash_core_components as dcc\n",
    "from dash.dependencies import Output, Input\n",
    "import pandas as pd\n",
    "from pathlib import Path\n",
    "import os\n",
    "import plotly.graph_objects as go\n",
    "import plotly.express as px\n",
    "from dash.exceptions import PreventUpdate\n",
    "import datetime\n",
    "from typing import Union\n",
    "import numpy as np\n",
    "from random import choices\n",
    "from utils import convert_state_name\n",
    "\n",
    "def fig_template():\n",
    "    fig = go.Figure()\n",
    "    fig.layout.paper_bgcolor = '#E5ECF6'\n",
    "    fig.layout.plot_bgcolor = '#E5ECF6'\n",
    "    return fig\n",
    "\n",
    "def to_unix_or_reg(the_date: Union[str, int], the_format: str, option: str):\n",
    "    unix_format = '%s'\n",
    "    if option == 'unix':\n",
    "        new_date = datetime.datetime.strptime(the_date, the_format).strftime(unix_format)\n",
    "    elif option == 'reg':\n",
    "        new_date = datetime.datetime.strptime(the_date, unix_format).strftime(the_format)\n",
    "    elif option =='unix_reg':\n",
    "        new_date = datetime.datetime.fromtimestamp(the_date).strftime(the_format)\n",
    "    else:\n",
    "        print('no good option')\n",
    "        exit(0)\n",
    "    return new_date\n",
    "\n",
    "\n",
    "path = Path(os.getcwd())\n",
    "base_dir = path.parent\n",
    "data_dir = os.path.join(base_dir, \"data\")\n",
    "data_dir\n",
    "\n",
    "dv_runs = pd.read_csv(os.path.join(data_dir, \"dv_runs.csv\"), delimiter=',', quotechar='\"', header='infer')\n",
    "bus_cat_hold_loc_parquet = pd.read_parquet(os.path.join(data_dir, 'bus_cat_hold_loc'), engine='pyarrow')\n",
    "bus_cat_hold_loc_parquet['state_abrv'] = bus_cat_hold_loc_parquet.StateName.apply(lambda x:convert_state_name(x)) \n",
    "country_counts = bus_cat_hold_loc_parquet.groupby(\n",
    "    ['state_abrv', 'CloseDate'], as_index=False).agg({\n",
    "    'abs_review_diff': 'sum', 'abs_rating_diff':'sum', 'BusinessName': 'count'})\n",
    "\n",
    "df2_groups_pivoted_100_sorted_cut_imputed = pd.read_parquet(os.path.join(data_dir, 'df2_groups_pivoted_100_sorted_cut_imputed'), engine='pyarrow')\n",
    "electric1 = px.colors.sequential.Electric[0]\n",
    "days = sorted(bus_cat_hold_loc_parquet.CloseDate.unique().tolist())\n",
    "the_format = \"%Y-%m-%d\"\n",
    "unix_format = '%s'\n",
    "\n",
    "# app = dash.Dash(__name__, external_stylesheets=[dbc.themes.DARKLY])\n",
    "app = JupyterDash(__name__, external_stylesheets=[dbc.themes.COSMO])\n",
    "\n",
    "app.layout = html.Div([\n",
    "    html.H1('Gourmand Database',\n",
    "        style={'color':'orange',\n",
    "            'fontSize':'50px'}),\n",
    "    html.H2('Businesses')\n",
    "    ,html.Br()\n",
    "    ,html.Div(id='chain_output'),\n",
    "    dbc.Tabs([\n",
    "        dbc.Tab([\n",
    "            html.Ul([\n",
    "                html.Li('Counts: '),\n",
    "                html.Li('Unique: '),\n",
    "                html.Li('Top Chain: '),\n",
    "                html.Li('Highest Review Count: '),\n",
    "            dbc.Col(\n",
    "                html.Li('Computer screen <--> phone screen'), lg={'size': 3, 'offset': \n",
    "                1}, sm={'size': 7, 'offset': \n",
    "                5})\n",
    "            ])\n",
    "    ], label='Data at a Glance'),\n",
    "        dbc.Tab([\n",
    "            html.H2('Daily Review Changes', style={'textAlign': 'center'})\n",
    "            ,dbc.Row(\n",
    "                [\n",
    "                    dbc.Col(\n",
    "                        [\n",
    "                            dcc.Dropdown(\n",
    "                                id='year-dropdown'\n",
    "                                , options=[{'label': year, 'value': year} for year in bus_cat_hold_loc_parquet['CloseDate'].sort_values().unique()]\n",
    "                            )\n",
    "                            ,dcc.Graph(\n",
    "                                id='review-delta-year-barchart'\n",
    "                            )\n",
    "                        ]\n",
    "                    )\n",
    "                    ,dbc.Col(\n",
    "                        [\n",
    "                            dcc.Dropdown(\n",
    "                                id='state-dropdown'\n",
    "                                , options=[{'label': state, 'value': state} for state in bus_cat_hold_loc_parquet['StateName'].sort_values().unique()]\n",
    "                            )\n",
    "                            ,dcc.Graph(\n",
    "                                id='review-delta-state-barchart'\n",
    "                            )\n",
    "                        ]\n",
    "                    )                    \n",
    "\n",
    "                ]\n",
    "            )\n",
    "            ,html.H2(\n",
    "                'hiya!😀'\n",
    "                , id='data-heading'\n",
    "                )\n",
    "        ],label='Stats on States by Day')\n",
    "        ,dbc.Tab([\n",
    "\n",
    "            dcc.Markdown(\n",
    "                \"\"\"\n",
    "                ## Overview\n",
    "                This project looks to leverage multiple tools to create a data architecture that could help serve as the backend for a business and even the frontend (more on this in due time). While the initial focus was simply ony creating an data pipeline to move the data from one source <em>x</em> to a data warehouse <em>y</em> the project has evolved to include a number of supplementary technologies/features partially due to problems that arose out of the blue. Fortunately while there may not always be meer solutions to everything there's always a nice trade-off i.e. compromise.\\\n",
    "                To begin we'll extract data from 3 sources ,namely, the **Census API** , a [web page](\"https://www.50states.com/abbreviations.htm\") via webscrape, and the **Yelp API** and push this to a **Postgres** database.\\\n",
    "                Initially this will be used to simulate a source db using **dbt** to normalize the data as would be expected in most OLTP dbs.\\\n",
    "                With that setup data from yelp will be pulled daily and inserted into this source db.\\\n",
    "                From there the data will be extracted to an **S3 Bucket** which will serve as our de-facto data lake.\\\n",
    "                Subsequently the data will be pulled from the **S3 Bucket** and ingested into some staging tables in Google Big Query ,that will serve as our data warehouse, where we'll make use of **dbt** to denormalize the data into a Snowflake Model.\\\n",
    "                Once this is done some simple data validation checks will be carried out and we'll log these results and route them back to our **Postgres** db to create some metrics with them and send notifications via flask in the event of any issues.\\\n",
    "                To orchestrate our recurring data workflow we'll use **Apache Airflow** with a **Postgres** Instance that is ran in a **Docker** container.\n",
    "                > Note: Now the code has been updated to run Apache Airflow completely in Docker with the CeleryExecutor 😀. So now this provides more scalibility if we plan on working with a multi-node setup. I just have yet to update the directions in this code.\n",
    "\n",
    "                Also using the **FastAPI** framework we'll be able to create an API on top of our source database with **Redis** to cache certain responses.\n",
    "                > Note: The our API has been fully dockerized and integrated as such with the CI/CD pipeline.\n",
    "\n",
    "                There are also other plans to extend this project which can be seen in the following data architecture diagram.\n",
    "                \"\"\"\n",
    "            )\n",
    "            ,            html.Ul([\n",
    "                        html.Br()\n",
    "                        ,html.Li([\n",
    "                            'Github Repo: '\n",
    "                            ,html.A('gourmand-data-pipelines', href='https://github.com/raindata5/gourmand-data-pipelines')\n",
    "                        ])\n",
    "                        ,html.Li(['Source: ',\n",
    "                        html.A('Yelp', href='https://www.yelp.com/developers/documentation/v3')\n",
    "                        ])\n",
    "            ])\n",
    "        ], label='Background Information')\n",
    "    ,dbc.Tab([\n",
    "        html.Br()\n",
    "        ,dbc.Row(\n",
    "            [\n",
    "            dbc.Col(\n",
    "                dcc.Dropdown(\n",
    "                    id = 'dag_state_dropdown_menu', options=[\n",
    "                    {'label':state.title() , 'value':state} for state in list(dv_runs['dag_state'].unique())\n",
    "            ]) , md={'size': 12}, lg={'size': 5, 'offset':1}\n",
    "        )\n",
    "            ,dbc.Col(\n",
    "                dcc.Dropdown(\n",
    "                    id = 'date_dropdown_menu',options=[\n",
    "                    {'label':date , 'value':date} for date in sorted(list(dv_runs['execution_date'].unique()))\n",
    "            ]) , md={'size': 12}, lg={'size': 5, 'offset':0} \n",
    "        )\n",
    "            ]\n",
    "        )\n",
    "\n",
    "        ,dcc.Graph(id='runtime_chart')\n",
    "        ], label = 'Airflow Task Graph'\n",
    "    )\n",
    "    ,dbc.Tab(\n",
    "        [\n",
    "            dcc.Dropdown(\n",
    "                id=\"cond-prob-chart1-dccd\"\n",
    "                ,options=[{'label':state, 'value':state} for state in df2_groups_pivoted_100_sorted_cut_imputed.StateName.unique()]\n",
    "            )\n",
    "            ,dcc.Graph(\n",
    "                id='cond-prob-chart1'\n",
    "            )\n",
    "            ,html.Br()\n",
    "            ,dbc.Label(\"States\")\n",
    "            ,dcc.Dropdown(\n",
    "                id=\"cond-prob-chart2-dccd\"\n",
    "                ,options = [{'label':state, 'value':state} for state in df2_groups_pivoted_100_sorted_cut_imputed.StateName.unique()]\n",
    "                ,multi=True\n",
    "                ,placeholder='Veuillez choisir un ou plusieurs pays'         \n",
    "            )\n",
    "            ,dcc.Graph(\n",
    "                id='cond-prob-chart2'\n",
    "            )\n",
    "            ,dcc.Slider(\n",
    "        id='payment-lvl-slider'\n",
    "                , min=0, max=5, step=1, dots=True, included=False, value=1, marks={\n",
    "            1: {'label': 'Unknown', 'style': {'color': electric1, 'fontWeight': 'bold'}},\n",
    "            2: {'label': 'Very Low', 'style': {'color': electric1, 'fontWeight': 'bold'}},\n",
    "            3: {'label': 'Low', 'style': {'color': electric1, 'fontWeight': 'bold'}},\n",
    "            4: {'label': 'High', 'style': {'color': electric1, 'fontWeight': 'bold'}},\n",
    "            5: {'label': 'Very High', 'style': {'color': electric1, 'fontWeight': 'bold'}}\n",
    "                }\n",
    "            )\n",
    "            ,html.Br()\n",
    "            ,dcc.Slider(\n",
    "                id='close-data-slider'\n",
    "                ,min=int(to_unix_or_reg(days[::2][0], the_format, 'unix')) - 86400\n",
    "                ,max=int(to_unix_or_reg(days[::2][-1], the_format, 'unix')) + 86400\n",
    "                ,step=86400\n",
    "                ,dots=True\n",
    "                ,included=False\n",
    "#                 ,value= int(to_unix_or_reg('2022-01-13', format, 'unix'))\n",
    "                ,tooltip= {\"placement\": \"top\", \"always_visible\": True}\n",
    "                ,marks= {int(to_unix_or_reg(day, the_format, 'unix')): {'label': day, 'style':{'color': electric1, 'fontWeight':'bold'}}  for day in days[::2]}\n",
    "            )\n",
    "            , dcc.Graph(\n",
    "                id='slider-graph'\n",
    "            )\n",
    "        ]\n",
    "        ,label=\"Conditional Probabilities\"\n",
    "    )\n",
    "    ,dbc.Tab(\n",
    "        [\n",
    "                dcc.Dropdown(\n",
    "                id='map_dropdown_menu', \n",
    "                value='BusinessName',\n",
    "                options=[{'label':col, 'value':col} for col in country_counts.iloc[:, 2:]])\n",
    "                ,dcc.Graph(id='map1')\n",
    "        ] , label='maps'\n",
    "    )\n",
    "    ]\n",
    "    )\n",
    "\n",
    "]\n",
    "\n",
    "    \n",
    ")\n",
    "@app.callback(\n",
    "    Output('map1', 'figure'),\n",
    "    Input('map_dropdown_menu', 'value')\n",
    " )\n",
    "def state_map1(col: str):\n",
    "\n",
    "    fig= px.choropleth(data_frame=country_counts, locationmode='USA-states', locations='state_abrv' , \n",
    "                    color=col, color_continuous_scale='amp', animation_frame='CloseDate', height=700, width=1000,\n",
    "                    hover_name='state_abrv')\n",
    "    fig.layout.title = col\n",
    "    fig.layout.geo.showframe = False\n",
    "    fig.layout.geo.showsubunits = True\n",
    "    fig.layout.geo.showcountries = True\n",
    "    fig.layout.geo.projection.type = 'natural earth'\n",
    "    fig.layout.geo.lonaxis.range = [-300,300]\n",
    "    fig.layout.geo.lataxis.range = [-53, 76]\n",
    "    return fig\n",
    "@app.callback(Output('runtime_chart','figure'),\n",
    "             Input('date_dropdown_menu','value'),\n",
    "             Input('dag_state_dropdown_menu','value'))\n",
    "def plot_by_state_day(date, state):\n",
    "    title_date = 'all days'\n",
    "    title_state = 'all'\n",
    "    if not date and not state:\n",
    "        df_sorted = dv_runs.sort_values(['runtime_seconds'], ascending=False)\n",
    "    elif state and not date :\n",
    "        df = dv_runs.loc[dv_runs['dag_state'] == state]\n",
    "        title_state = state\n",
    "        df_sorted = df.sort_values(['runtime_seconds'], ascending=False)\n",
    "    elif not state and date:\n",
    "        df = dv_runs.loc[dv_runs['execution_date'] == date]\n",
    "        df_sorted = df.sort_values(['runtime_seconds'], ascending=False)\n",
    "        title_date = date\n",
    "    else:\n",
    "        df = dv_runs.loc[(dv_runs['dag_state'] == state) & (dv_runs['execution_date'] == date)]\n",
    "        df_sorted = df.sort_values(['runtime_seconds'], ascending=False)\n",
    "        title_state = state\n",
    "        title_date = date\n",
    "    fig = go.Figure()\n",
    "    fig.add_bar(x=df_sorted['dag_id'], y=df_sorted['runtime_seconds'])\n",
    "    fig.layout.title = f'airflow tasks runtimes for {title_date} and for {title_state} attempts'\n",
    "    fig.layout.yaxis.title = 'runtime (seconds)'\n",
    "    fig.layout.template = \"ggplot2\"\n",
    "    return fig\n",
    "\n",
    "@app.callback(\n",
    "    Output('review-delta-year-barchart', 'figure')\n",
    "    ,Input('year-dropdown', 'value')\n",
    ")\n",
    "def plot_by_year(year):\n",
    "    if not year:\n",
    "        raise PreventUpdate\n",
    "    state_day_groups = bus_cat_hold_loc_parquet.groupby(['StateName', 'CloseDate'], as_index=False).sum()\n",
    "    df=state_day_groups[state_day_groups['CloseDate'] == year].sort_values('abs_review_diff').reset_index(drop=True)\n",
    "    pixel_constant= df.shape[0]\n",
    "    fig = px.bar(df, y='StateName',x='abs_review_diff', title=' - '.join(['abs_review_diff', 'by State']),  orientation='h', height=200 + (20 * pixel_constant))\n",
    "    return fig\n",
    "\n",
    "@app.callback(\n",
    "    Output('review-delta-state-barchart', 'figure')\n",
    "    ,Input('state-dropdown', 'value')\n",
    ")\n",
    "def plot_by_state_day(state):\n",
    "    if not state:\n",
    "        raise PreventUpdate\n",
    "    state_day_groups = bus_cat_hold_loc_parquet.groupby(['StateName', 'CloseDate'], as_index=False).sum()\n",
    "    df=state_day_groups[state_day_groups['StateName'] == state].sort_values('abs_review_diff').reset_index(drop=True)\n",
    "    pixel_constant= df.shape[0]\n",
    "    fig = px.bar(df, x='CloseDate',y='abs_review_diff', title=' - '.join([f'abs_review_diff for {state}', 'each day']))\n",
    "\n",
    "    return fig\n",
    "@app.callback(\n",
    "    Output('cond-prob-chart1', 'figure')\n",
    "    ,Input('cond-prob-chart1-dccd', 'value')\n",
    ")\n",
    "def cond_prob_1(state):\n",
    "    if not state:\n",
    "        raise PreventUpdate\n",
    "    # TODO: have a separate dataframe be placed in when no state is selected\n",
    "    fig = px.bar((df2_groups_pivoted_100_sorted_cut_imputed[df2_groups_pivoted_100_sorted_cut_imputed['StateName']==state] if state else df2_groups_pivoted_100_sorted_cut_imputed),\n",
    "    x=['one','two','three','four','five'],\n",
    "    y='PaymentLevelName',\n",
    "    hover_name='StateName',\n",
    "    orientation='h',\n",
    "    barmode='stack',\n",
    "    height=600 ,\n",
    "    title=(f'Ratings by Payment level - {state}' if state else 'Ratings by Payment level'))\n",
    "    \n",
    "    fig.layout.legend.orientation = 'h'\n",
    "    fig.layout.legend.title = 'Rating'\n",
    "    # fig.layout.legend.title = None\n",
    "    fig.layout.xaxis.title = \"Percent of Total Ratings\"\n",
    "    fig.layout.legend.x = 0.25\n",
    "    fig.update_layout(legend=dict(\n",
    "    orientation=\"h\",\n",
    "    yanchor=\"bottom\",\n",
    "    y=1.02,\n",
    "    xanchor=\"right\",\n",
    "    x=1\n",
    "    ))\n",
    "    return fig\n",
    "@app.callback(\n",
    "    Output('cond-prob-chart2', 'figure')\n",
    "    ,Input(\"cond-prob-chart2-dccd\", 'value')\n",
    ")\n",
    "def cond_prob_2(states):\n",
    "    if not states:\n",
    "        raise PreventUpdate\n",
    "    df = df2_groups_pivoted_100_sorted_cut_imputed.loc[df2_groups_pivoted_100_sorted_cut_imputed['StateName'].isin(states)]\n",
    "    fig = px.bar(\n",
    "    df,\n",
    "    x=['one','two','three','four','five'],\n",
    "    y='PaymentLevelName',\n",
    "    facet_row = 'StateName',\n",
    "    hover_name='StateName',\n",
    "    orientation='h',\n",
    "    barmode='stack',\n",
    "    height=100 + 250*len(states),\n",
    "    labels={'PaymentLevelName': 'PaymentLevelName'},\n",
    "    title='<br>'.join(['PaymentLevelName', ', '.join(states)])\n",
    "\n",
    "    )\n",
    "    fig.layout.legend.title = 'Rating'\n",
    "    fig.update_layout(legend=dict(\n",
    "    orientation=\"h\",\n",
    "    yanchor=\"bottom\",\n",
    "    y=1.02,\n",
    "    xanchor=\"right\",\n",
    "    x=1\n",
    "    ))\n",
    "    return fig\n",
    "@app.callback(\n",
    "    Output('slider-graph', 'figure')\n",
    "    ,Input('payment-lvl-slider', 'drag_value')\n",
    "    ,Input('payment-lvl-slider', 'marks')\n",
    "    ,Input('close-data-slider', 'drag_value')\n",
    "    ,Input('close-data-slider', 'marks')\n",
    ")\n",
    "def plot_day_payment_lvl(lvl,lvl_marks, day, day_marks):\n",
    "    # check out webgl\n",
    "    if (not lvl) or (not day):\n",
    "        raise PreventUpdate \n",
    "    new_day = to_unix_or_reg(the_date=day, the_format=the_format, option='unix_reg')\n",
    "    lvl=lvl_marks[str(lvl)]['label']\n",
    "    day_df = bus_cat_hold_loc_parquet.loc[(bus_cat_hold_loc_parquet['PaymentLevelName'] == lvl) & (bus_cat_hold_loc_parquet['CloseDate'] == new_day)]\n",
    "\n",
    "    fig = go.Figure()\n",
    "    fig.add_trace(go.Scatter(x=day_df['EstimatedPopulation'], y=day_df['abs_review_diff'], mode='markers', marker_color='rgba(152, 0, 0, .8)', opacity=.50))\n",
    "\n",
    "    fig.layout.xaxis.title = 'Estimated Population'\n",
    "    fig.layout.yaxis.title = 'Absolute Review Difference'\n",
    "    return fig\n",
    "\n",
    "app.run_server(mode='jupyterlab')"
   ]
  },
  {
   "cell_type": "code",
   "execution_count": null,
   "id": "electronic-anxiety",
   "metadata": {},
   "outputs": [],
   "source": [
    "state = None\n",
    "(df2_groups_pivoted_100_sorted_cut_imputed[df2_groups_pivoted_100_sorted_cut_imputed['StateName']==state] if state else print('hello'))"
   ]
  },
  {
   "cell_type": "code",
   "execution_count": null,
   "id": "impressive-equivalent",
   "metadata": {},
   "outputs": [],
   "source": [
    "dv_runs.dag_id.value_counts().to_frame().style.background_gradient('cividis')"
   ]
  },
  {
   "cell_type": "code",
   "execution_count": null,
   "id": "forced-shower",
   "metadata": {},
   "outputs": [],
   "source": [
    "bus_cat_dataframe = pd.read_csv(os.path.join(data_dir, 'bus_cat.csv'),sep='|', low_memory=True)"
   ]
  },
  {
   "cell_type": "code",
   "execution_count": null,
   "id": "joint-spine",
   "metadata": {},
   "outputs": [],
   "source": [
    "bus_cat_dataframe.CountryName.value_counts()"
   ]
  },
  {
   "cell_type": "code",
   "execution_count": null,
   "id": "fewer-jewelry",
   "metadata": {},
   "outputs": [],
   "source": [
    "from unicodedata import lookup\n",
    "import numpy as np\n",
    "def country_flag(letters):\n",
    "    if not letters:\n",
    "        return np.nan\n",
    "    lookup_string1  = f'REGIONAL INDICATOR SYMBOL LETTER {letters[0]}'\n",
    "    lookup_string2 = f'REGIONAL INDICATOR SYMBOL LETTER {letters[1]}'\n",
    "#     L0 = lookup(f'REGIONAL INDICATOR SYMBOL LETTER {letters[0]}')\n",
    "#     L1 = lookup(f'REGIONAL INDICATOR SYMBOL LETTER {letters[1]}')\n",
    "    L0 = lookup(str.strip(lookup_string1))\n",
    "    L1 = lookup(str.strip(lookup_string2))\n",
    "    return L0 + L1\n"
   ]
  },
  {
   "cell_type": "code",
   "execution_count": null,
   "id": "continuous-singer",
   "metadata": {},
   "outputs": [],
   "source": [
    "bus_cat_dataframe['flag'] = [country_flag(code) for code in bus_cat_dataframe['CountryName']]"
   ]
  },
  {
   "cell_type": "code",
   "execution_count": null,
   "id": "peripheral-retail",
   "metadata": {},
   "outputs": [],
   "source": [
    "bus_cat_dataframe.head()"
   ]
  },
  {
   "cell_type": "code",
   "execution_count": null,
   "id": "approximate-carrier",
   "metadata": {},
   "outputs": [],
   "source": [
    "\n",
    "bus_cat_dataframe.flag.value_counts()"
   ]
  },
  {
   "cell_type": "code",
   "execution_count": null,
   "id": "domestic-victim",
   "metadata": {},
   "outputs": [],
   "source": [
    "holdings = pd.read_csv(os.path.join(data_dir, 'holding.csv'),sep='|', low_memory=True)"
   ]
  },
  {
   "cell_type": "code",
   "execution_count": null,
   "id": "korean-messenger",
   "metadata": {},
   "outputs": [],
   "source": [
    "holdings"
   ]
  },
  {
   "cell_type": "code",
   "execution_count": null,
   "id": "furnished-disposition",
   "metadata": {},
   "outputs": [],
   "source": [
    "county_growth_est = pd.read_csv(os.path.join(data_dir, 'county_growth_est.csv'),sep='|', low_memory=True)"
   ]
  },
  {
   "cell_type": "code",
   "execution_count": null,
   "id": "controversial-collect",
   "metadata": {},
   "outputs": [],
   "source": [
    "county_growth_est"
   ]
  },
  {
   "cell_type": "code",
   "execution_count": null,
   "id": "northern-vector",
   "metadata": {},
   "outputs": [],
   "source": [
    "bus_cat_hold = pd.merge(left=bus_cat_dataframe, right=holdings, on='BusinessName', suffixes=[None, 'hodl'])\n",
    "bus_cat_hold"
   ]
  },
  {
   "cell_type": "code",
   "execution_count": null,
   "id": "unsigned-token",
   "metadata": {},
   "outputs": [],
   "source": [
    "bus_cat_hold_loc = pd.merge(left=bus_cat_hold, right=county_growth_est, on=['StateName', 'CountyName'], suffixes=[None, 'hodl'], how='left')"
   ]
  },
  {
   "cell_type": "code",
   "execution_count": null,
   "id": "affiliated-progressive",
   "metadata": {},
   "outputs": [],
   "source": [
    "bus_cat_hold_loc.to_parquet(os.path.join(data_dir, 'bus_cat_hold_loc'), compression='gzip', engine='pyarrow')"
   ]
  },
  {
   "cell_type": "code",
   "execution_count": null,
   "id": "consistent-louis",
   "metadata": {},
   "outputs": [],
   "source": [
    "bus_cat_hold_loc.to_csv(os.path.join(data_dir, 'bus_cat_hold_loc.csv'), sep='|', index=False, quotechar=\"'\")"
   ]
  },
  {
   "cell_type": "code",
   "execution_count": null,
   "id": "embedded-reservation",
   "metadata": {},
   "outputs": [],
   "source": [
    "import re\n",
    "the_columns = list(filter(lambda x: re.search(r'^((?!hodl).)*$', x), bus_cat_hold_loc_parquet.columns))\n",
    "the_columns\n"
   ]
  },
  {
   "cell_type": "code",
   "execution_count": null,
   "id": "perceived-belle",
   "metadata": {
    "tags": []
   },
   "outputs": [],
   "source": [
    "bus_cat_hold_loc_parquet = bus_cat_hold_loc_parquet.loc[:, the_columns]\n",
    "bus_cat_hold_loc_parquet"
   ]
  },
  {
   "cell_type": "code",
   "execution_count": null,
   "id": "tender-delight",
   "metadata": {},
   "outputs": [],
   "source": [
    "bus_cat_hold_loc_parquet.to_parquet(os.path.join(data_dir, 'bus_cat_hold_loc'), compression='gzip', engine='pyarrow')"
   ]
  },
  {
   "cell_type": "code",
   "execution_count": null,
   "id": "turned-alfred",
   "metadata": {
    "tags": []
   },
   "outputs": [],
   "source": [
    "fig = go.Figure()\n"
   ]
  },
  {
   "cell_type": "code",
   "execution_count": null,
   "id": "checked-baptist",
   "metadata": {},
   "outputs": [],
   "source": [
    "fig.add_scatter(x=[1, 2, 3], y=[4, 2, 3])\n",
    "fig.add_scatter(x=[1, 2, 3, 4], y=[4, 5, 2, 3])\n"
   ]
  },
  {
   "cell_type": "code",
   "execution_count": null,
   "id": "minimal-complaint",
   "metadata": {},
   "outputs": [],
   "source": [
    "fig.layout.title = 'Plotly Graph Title'\n",
    "fig.layout.xaxis.title = 'xaxis title'\n",
    "fig.layout.yaxis.title = 'yaxis title'"
   ]
  },
  {
   "cell_type": "code",
   "execution_count": null,
   "id": "saved-seeker",
   "metadata": {},
   "outputs": [],
   "source": [
    "fig.write_html('html_plot.html',\n",
    " config={'toImageButtonOptions':\n",
    " {'format': 'svg'}})"
   ]
  },
  {
   "cell_type": "code",
   "execution_count": null,
   "id": "ranging-fountain",
   "metadata": {},
   "outputs": [],
   "source": [
    "fig.write_image('image_file.svg',\n",
    " height=600, width=850)"
   ]
  },
  {
   "cell_type": "code",
   "execution_count": null,
   "id": "equipped-criticism",
   "metadata": {},
   "outputs": [],
   "source": [
    "fig.show()"
   ]
  },
  {
   "cell_type": "code",
   "execution_count": null,
   "id": "drawn-bible",
   "metadata": {},
   "outputs": [],
   "source": [
    "fig.show('json')"
   ]
  },
  {
   "cell_type": "code",
   "execution_count": null,
   "id": "behind-premium",
   "metadata": {},
   "outputs": [],
   "source": [
    "\n",
    "bus_cat_hold_loc_parquet = pd.read_parquet(os.path.join(data_dir, 'bus_cat_hold_loc'), engine='pyarrow')\n",
    "bus_cat_hold_loc_parquet\n"
   ]
  },
  {
   "cell_type": "code",
   "execution_count": 9,
   "id": "bibliographic-spare",
   "metadata": {},
   "outputs": [
    {
     "data": {
      "text/html": [
       "<div>\n",
       "<style scoped>\n",
       "    .dataframe tbody tr th:only-of-type {\n",
       "        vertical-align: middle;\n",
       "    }\n",
       "\n",
       "    .dataframe tbody tr th {\n",
       "        vertical-align: top;\n",
       "    }\n",
       "\n",
       "    .dataframe thead th {\n",
       "        text-align: right;\n",
       "    }\n",
       "</style>\n",
       "<table border=\"1\" class=\"dataframe\">\n",
       "  <thead>\n",
       "    <tr style=\"text-align: right;\">\n",
       "      <th></th>\n",
       "      <th>StateName</th>\n",
       "      <th>Longitude</th>\n",
       "      <th>Latitude</th>\n",
       "      <th>BusinessKey</th>\n",
       "      <th>BusinessRating</th>\n",
       "      <th>ReviewCount</th>\n",
       "      <th>previous_review_cnt</th>\n",
       "      <th>previous_rating</th>\n",
       "      <th>abs_review_diff</th>\n",
       "      <th>abs_rating_diff</th>\n",
       "      <th>total_review_cnt_delta</th>\n",
       "      <th>total_bus_rating_delta</th>\n",
       "      <th>EstimationYear</th>\n",
       "      <th>EstimatedPopulation</th>\n",
       "      <th>lastpop</th>\n",
       "      <th>relative_delta</th>\n",
       "      <th>abs_delta</th>\n",
       "    </tr>\n",
       "  </thead>\n",
       "  <tbody>\n",
       "    <tr>\n",
       "      <th>0</th>\n",
       "      <td>ABE</td>\n",
       "      <td>-108.128867</td>\n",
       "      <td>34.298479</td>\n",
       "      <td>24</td>\n",
       "      <td>96.0</td>\n",
       "      <td>24</td>\n",
       "      <td>21.0</td>\n",
       "      <td>84.0</td>\n",
       "      <td>0.0</td>\n",
       "      <td>0.0</td>\n",
       "      <td>0.0</td>\n",
       "      <td>0.0</td>\n",
       "      <td>0.0</td>\n",
       "      <td>0.0</td>\n",
       "      <td>0.0</td>\n",
       "      <td>0.000000</td>\n",
       "      <td>0.0</td>\n",
       "    </tr>\n",
       "    <tr>\n",
       "      <th>1</th>\n",
       "      <td>Alabama</td>\n",
       "      <td>-98.957336</td>\n",
       "      <td>39.443256</td>\n",
       "      <td>2144</td>\n",
       "      <td>64.0</td>\n",
       "      <td>16</td>\n",
       "      <td>14.0</td>\n",
       "      <td>56.0</td>\n",
       "      <td>0.0</td>\n",
       "      <td>0.0</td>\n",
       "      <td>0.0</td>\n",
       "      <td>0.0</td>\n",
       "      <td>0.0</td>\n",
       "      <td>0.0</td>\n",
       "      <td>0.0</td>\n",
       "      <td>0.000000</td>\n",
       "      <td>0.0</td>\n",
       "    </tr>\n",
       "    <tr>\n",
       "      <th>2</th>\n",
       "      <td>Alabama</td>\n",
       "      <td>-93.875429</td>\n",
       "      <td>39.175908</td>\n",
       "      <td>20220</td>\n",
       "      <td>45.0</td>\n",
       "      <td>180</td>\n",
       "      <td>162.0</td>\n",
       "      <td>40.5</td>\n",
       "      <td>0.0</td>\n",
       "      <td>0.0</td>\n",
       "      <td>0.0</td>\n",
       "      <td>0.0</td>\n",
       "      <td>60570.0</td>\n",
       "      <td>565890.0</td>\n",
       "      <td>571680.0</td>\n",
       "      <td>-0.303841</td>\n",
       "      <td>-5790.0</td>\n",
       "    </tr>\n",
       "    <tr>\n",
       "      <th>3</th>\n",
       "      <td>Alabama</td>\n",
       "      <td>-88.309989</td>\n",
       "      <td>32.830634</td>\n",
       "      <td>648</td>\n",
       "      <td>40.0</td>\n",
       "      <td>8</td>\n",
       "      <td>7.0</td>\n",
       "      <td>35.0</td>\n",
       "      <td>0.0</td>\n",
       "      <td>0.0</td>\n",
       "      <td>0.0</td>\n",
       "      <td>0.0</td>\n",
       "      <td>0.0</td>\n",
       "      <td>0.0</td>\n",
       "      <td>0.0</td>\n",
       "      <td>0.000000</td>\n",
       "      <td>0.0</td>\n",
       "    </tr>\n",
       "    <tr>\n",
       "      <th>4</th>\n",
       "      <td>Alabama</td>\n",
       "      <td>-88.298618</td>\n",
       "      <td>32.518070</td>\n",
       "      <td>1264</td>\n",
       "      <td>32.0</td>\n",
       "      <td>96</td>\n",
       "      <td>84.0</td>\n",
       "      <td>28.0</td>\n",
       "      <td>0.0</td>\n",
       "      <td>0.0</td>\n",
       "      <td>0.0</td>\n",
       "      <td>0.0</td>\n",
       "      <td>0.0</td>\n",
       "      <td>0.0</td>\n",
       "      <td>0.0</td>\n",
       "      <td>0.000000</td>\n",
       "      <td>0.0</td>\n",
       "    </tr>\n",
       "    <tr>\n",
       "      <th>...</th>\n",
       "      <td>...</td>\n",
       "      <td>...</td>\n",
       "      <td>...</td>\n",
       "      <td>...</td>\n",
       "      <td>...</td>\n",
       "      <td>...</td>\n",
       "      <td>...</td>\n",
       "      <td>...</td>\n",
       "      <td>...</td>\n",
       "      <td>...</td>\n",
       "      <td>...</td>\n",
       "      <td>...</td>\n",
       "      <td>...</td>\n",
       "      <td>...</td>\n",
       "      <td>...</td>\n",
       "      <td>...</td>\n",
       "      <td>...</td>\n",
       "    </tr>\n",
       "    <tr>\n",
       "      <th>63017</th>\n",
       "      <td>Wyoming</td>\n",
       "      <td>-104.081040</td>\n",
       "      <td>44.084833</td>\n",
       "      <td>503720</td>\n",
       "      <td>40.0</td>\n",
       "      <td>96</td>\n",
       "      <td>84.0</td>\n",
       "      <td>35.0</td>\n",
       "      <td>0.0</td>\n",
       "      <td>0.0</td>\n",
       "      <td>0.0</td>\n",
       "      <td>0.0</td>\n",
       "      <td>16152.0</td>\n",
       "      <td>55416.0</td>\n",
       "      <td>55392.0</td>\n",
       "      <td>0.003466</td>\n",
       "      <td>24.0</td>\n",
       "    </tr>\n",
       "    <tr>\n",
       "      <th>63018</th>\n",
       "      <td>Wyoming</td>\n",
       "      <td>-102.588702</td>\n",
       "      <td>41.488390</td>\n",
       "      <td>502824</td>\n",
       "      <td>28.0</td>\n",
       "      <td>200</td>\n",
       "      <td>175.0</td>\n",
       "      <td>24.5</td>\n",
       "      <td>0.0</td>\n",
       "      <td>0.0</td>\n",
       "      <td>0.0</td>\n",
       "      <td>0.0</td>\n",
       "      <td>0.0</td>\n",
       "      <td>0.0</td>\n",
       "      <td>0.0</td>\n",
       "      <td>0.000000</td>\n",
       "      <td>0.0</td>\n",
       "    </tr>\n",
       "    <tr>\n",
       "      <th>63019</th>\n",
       "      <td>Wyoming</td>\n",
       "      <td>-98.459051</td>\n",
       "      <td>44.370646</td>\n",
       "      <td>502816</td>\n",
       "      <td>40.0</td>\n",
       "      <td>32</td>\n",
       "      <td>28.0</td>\n",
       "      <td>35.0</td>\n",
       "      <td>0.0</td>\n",
       "      <td>0.0</td>\n",
       "      <td>0.0</td>\n",
       "      <td>0.0</td>\n",
       "      <td>0.0</td>\n",
       "      <td>0.0</td>\n",
       "      <td>0.0</td>\n",
       "      <td>0.000000</td>\n",
       "      <td>0.0</td>\n",
       "    </tr>\n",
       "    <tr>\n",
       "      <th>63020</th>\n",
       "      <td>XGL</td>\n",
       "      <td>0.073200</td>\n",
       "      <td>51.410740</td>\n",
       "      <td>506528</td>\n",
       "      <td>32.0</td>\n",
       "      <td>24</td>\n",
       "      <td>21.0</td>\n",
       "      <td>28.0</td>\n",
       "      <td>0.0</td>\n",
       "      <td>0.0</td>\n",
       "      <td>0.0</td>\n",
       "      <td>0.0</td>\n",
       "      <td>0.0</td>\n",
       "      <td>0.0</td>\n",
       "      <td>0.0</td>\n",
       "      <td>0.000000</td>\n",
       "      <td>0.0</td>\n",
       "    </tr>\n",
       "    <tr>\n",
       "      <th>63021</th>\n",
       "      <td>YT</td>\n",
       "      <td>-134.704570</td>\n",
       "      <td>60.169670</td>\n",
       "      <td>1709559</td>\n",
       "      <td>135.0</td>\n",
       "      <td>54</td>\n",
       "      <td>48.0</td>\n",
       "      <td>120.0</td>\n",
       "      <td>0.0</td>\n",
       "      <td>0.0</td>\n",
       "      <td>0.0</td>\n",
       "      <td>0.0</td>\n",
       "      <td>0.0</td>\n",
       "      <td>0.0</td>\n",
       "      <td>0.0</td>\n",
       "      <td>0.000000</td>\n",
       "      <td>0.0</td>\n",
       "    </tr>\n",
       "  </tbody>\n",
       "</table>\n",
       "<p>63022 rows × 17 columns</p>\n",
       "</div>"
      ],
      "text/plain": [
       "      StateName   Longitude   Latitude  BusinessKey  BusinessRating  \\\n",
       "0           ABE -108.128867  34.298479           24            96.0   \n",
       "1       Alabama  -98.957336  39.443256         2144            64.0   \n",
       "2       Alabama  -93.875429  39.175908        20220            45.0   \n",
       "3       Alabama  -88.309989  32.830634          648            40.0   \n",
       "4       Alabama  -88.298618  32.518070         1264            32.0   \n",
       "...         ...         ...        ...          ...             ...   \n",
       "63017   Wyoming -104.081040  44.084833       503720            40.0   \n",
       "63018   Wyoming -102.588702  41.488390       502824            28.0   \n",
       "63019   Wyoming  -98.459051  44.370646       502816            40.0   \n",
       "63020       XGL    0.073200  51.410740       506528            32.0   \n",
       "63021        YT -134.704570  60.169670      1709559           135.0   \n",
       "\n",
       "       ReviewCount  previous_review_cnt  previous_rating  abs_review_diff  \\\n",
       "0               24                 21.0             84.0              0.0   \n",
       "1               16                 14.0             56.0              0.0   \n",
       "2              180                162.0             40.5              0.0   \n",
       "3                8                  7.0             35.0              0.0   \n",
       "4               96                 84.0             28.0              0.0   \n",
       "...            ...                  ...              ...              ...   \n",
       "63017           96                 84.0             35.0              0.0   \n",
       "63018          200                175.0             24.5              0.0   \n",
       "63019           32                 28.0             35.0              0.0   \n",
       "63020           24                 21.0             28.0              0.0   \n",
       "63021           54                 48.0            120.0              0.0   \n",
       "\n",
       "       abs_rating_diff  total_review_cnt_delta  total_bus_rating_delta  \\\n",
       "0                  0.0                     0.0                     0.0   \n",
       "1                  0.0                     0.0                     0.0   \n",
       "2                  0.0                     0.0                     0.0   \n",
       "3                  0.0                     0.0                     0.0   \n",
       "4                  0.0                     0.0                     0.0   \n",
       "...                ...                     ...                     ...   \n",
       "63017              0.0                     0.0                     0.0   \n",
       "63018              0.0                     0.0                     0.0   \n",
       "63019              0.0                     0.0                     0.0   \n",
       "63020              0.0                     0.0                     0.0   \n",
       "63021              0.0                     0.0                     0.0   \n",
       "\n",
       "       EstimationYear  EstimatedPopulation   lastpop  relative_delta  \\\n",
       "0                 0.0                  0.0       0.0        0.000000   \n",
       "1                 0.0                  0.0       0.0        0.000000   \n",
       "2             60570.0             565890.0  571680.0       -0.303841   \n",
       "3                 0.0                  0.0       0.0        0.000000   \n",
       "4                 0.0                  0.0       0.0        0.000000   \n",
       "...               ...                  ...       ...             ...   \n",
       "63017         16152.0              55416.0   55392.0        0.003466   \n",
       "63018             0.0                  0.0       0.0        0.000000   \n",
       "63019             0.0                  0.0       0.0        0.000000   \n",
       "63020             0.0                  0.0       0.0        0.000000   \n",
       "63021             0.0                  0.0       0.0        0.000000   \n",
       "\n",
       "       abs_delta  \n",
       "0            0.0  \n",
       "1            0.0  \n",
       "2        -5790.0  \n",
       "3            0.0  \n",
       "4            0.0  \n",
       "...          ...  \n",
       "63017       24.0  \n",
       "63018        0.0  \n",
       "63019        0.0  \n",
       "63020        0.0  \n",
       "63021        0.0  \n",
       "\n",
       "[63022 rows x 17 columns]"
      ]
     },
     "execution_count": 9,
     "metadata": {},
     "output_type": "execute_result"
    }
   ],
   "source": [
    "state_groups = bus_cat_hold_loc_parquet.groupby(['StateName'], as_index=False).agg.sum()\n",
    "state_groups"
   ]
  },
  {
   "cell_type": "code",
   "execution_count": 5,
   "id": "intermediate-footage",
   "metadata": {},
   "outputs": [],
   "source": [
    "state_day_groups = bus_cat_hold_loc_parquet.groupby(['StateName', 'CloseDate'], as_index=False).sum() "
   ]
  },
  {
   "cell_type": "code",
   "execution_count": null,
   "id": "permanent-wings",
   "metadata": {},
   "outputs": [],
   "source": [
    "df2 = bus_cat_hold_loc_parquet\n",
    "df2['rating_groups'] =  df2['BusinessRating'].map(round)\n",
    "\n",
    "df2_groups = df2.groupby(['rating_groups', 'PaymentLevelName','StateName'],as_index=False).agg({'ReviewCount': 'sum'})\n",
    "df2_groups_pivoted = df2_groups.pivot(index=['PaymentLevelName', 'StateName'], columns = 'rating_groups', values='ReviewCount')\n",
    "pd.options.display.float_format = '{:,.4f}'.format\n",
    "df2_groups_pivoted_100 = df2_groups_pivoted.div(df2_groups_pivoted.sum(axis=1), axis=0)\n",
    "df2_groups_pivoted_100"
   ]
  },
  {
   "cell_type": "code",
   "execution_count": null,
   "id": "behind-steering",
   "metadata": {},
   "outputs": [],
   "source": [
    "list(df2_groups_pivoted_100.index)[:5]"
   ]
  },
  {
   "cell_type": "code",
   "execution_count": null,
   "id": "moving-leader",
   "metadata": {},
   "outputs": [],
   "source": [
    "df2_groups_pivoted_100_sorted = df2_groups_pivoted_100.rename({'High':'4_High', 'Low':'3_Low', 'Unknown':'1_Unknown', 'Very High':'5_Very High', 'Very Low':'2_Very Low'}, axis=0).sort_index()\n",
    "df2_groups_pivoted_100_sorted"
   ]
  },
  {
   "cell_type": "code",
   "execution_count": null,
   "id": "secondary-capacity",
   "metadata": {
    "tags": []
   },
   "outputs": [],
   "source": [
    "\n",
    "df2_groups_pivoted_100_sorted_cut[df2_groups_pivoted_100_sorted_cut['StateName']=='Florida']"
   ]
  },
  {
   "cell_type": "code",
   "execution_count": null,
   "id": "veterinary-middle",
   "metadata": {},
   "outputs": [],
   "source": [
    "fig = go.Figure()\n",
    "fig.add_scatter(x=state_date_df_filter['CloseDate'], y=state_date_df_filter['ReviewCount'], mode='lines+markers+text')\n",
    "fig.show()"
   ]
  },
  {
   "cell_type": "code",
   "execution_count": null,
   "id": "nearby-taxation",
   "metadata": {},
   "outputs": [],
   "source": [
    "states = ['Florida', 'Texas', 'Alaska']\n",
    "\n",
    "state_date_df = bus_cat_hold_loc_parquet.groupby(['StateName', 'CloseDate'], as_index=False)['ReviewCount'].sum()\n",
    "state_date_df_filter = state_date_df[state_date_df.StateName.isin(states)]\n",
    "state_date_df_filter\n",
    "\n"
   ]
  },
  {
   "cell_type": "code",
   "execution_count": null,
   "id": "identical-wrong",
   "metadata": {},
   "outputs": [],
   "source": [
    "fig = go.Figure()\n",
    "for state in states:\n",
    "    df_trace = state_date_df[state_date_df.StateName.isin([state])]\n",
    "    fig.add_scatter(x=df_trace['CloseDate'], y=df_trace['ReviewCount'], name=state, mode='lines+markers')\n",
    "\n",
    "fig.layout.yaxis.title = 'Review Counts'\n",
    "fig.show()"
   ]
  },
  {
   "cell_type": "code",
   "execution_count": null,
   "id": "growing-minnesota",
   "metadata": {},
   "outputs": [],
   "source": [
    "\n",
    "\n",
    "fig = px.scatter(state_date_df_filter, x='CloseDate', y='ReviewCount', color='StateName')\n",
    "\n",
    "figlines = px.line(state_date_df_filter, x='CloseDate', y='ReviewCount', color='StateName')\n",
    "\n",
    "for trace in figlines.data:\n",
    "    trace.showlegend = False\n",
    "    fig.add_trace(trace)\n",
    "fig.show()"
   ]
  },
  {
   "cell_type": "code",
   "execution_count": null,
   "id": "minus-second",
   "metadata": {},
   "outputs": [],
   "source": [
    "px.colors.cmocean.swatches_continuous()"
   ]
  },
  {
   "cell_type": "code",
   "execution_count": 22,
   "id": "complex-virgin",
   "metadata": {},
   "outputs": [
    {
     "data": {
      "text/plain": [
       "['rgb(0,0,0)',\n",
       " 'rgb(30,0,100)',\n",
       " 'rgb(120,0,100)',\n",
       " 'rgb(160,90,0)',\n",
       " 'rgb(230,200,0)',\n",
       " 'rgb(255,250,220)']"
      ]
     },
     "execution_count": 22,
     "metadata": {},
     "output_type": "execute_result"
    }
   ],
   "source": [
    "px.colors.sequential"
   ]
  },
  {
   "cell_type": "code",
   "execution_count": 3,
   "id": "noted-talent",
   "metadata": {},
   "outputs": [
    {
     "data": {
      "text/html": [
       "<div>\n",
       "<style scoped>\n",
       "    .dataframe tbody tr th:only-of-type {\n",
       "        vertical-align: middle;\n",
       "    }\n",
       "\n",
       "    .dataframe tbody tr th {\n",
       "        vertical-align: top;\n",
       "    }\n",
       "\n",
       "    .dataframe thead th {\n",
       "        text-align: right;\n",
       "    }\n",
       "</style>\n",
       "<table border=\"1\" class=\"dataframe\">\n",
       "  <thead>\n",
       "    <tr style=\"text-align: right;\">\n",
       "      <th></th>\n",
       "      <th>StateName</th>\n",
       "      <th>CountyName</th>\n",
       "      <th>EstimationYear</th>\n",
       "      <th>EstimatedPopulation</th>\n",
       "      <th>lastpop</th>\n",
       "      <th>relative_delta</th>\n",
       "      <th>abs_delta</th>\n",
       "    </tr>\n",
       "  </thead>\n",
       "  <tbody>\n",
       "    <tr>\n",
       "      <th>0</th>\n",
       "      <td>California</td>\n",
       "      <td>Siskiyou County</td>\n",
       "      <td>2019</td>\n",
       "      <td>43539</td>\n",
       "      <td>43550</td>\n",
       "      <td>-0.000253</td>\n",
       "      <td>-11</td>\n",
       "    </tr>\n",
       "    <tr>\n",
       "      <th>1</th>\n",
       "      <td>Colorado</td>\n",
       "      <td>Saguache County</td>\n",
       "      <td>2019</td>\n",
       "      <td>6824</td>\n",
       "      <td>6840</td>\n",
       "      <td>-0.002339</td>\n",
       "      <td>-16</td>\n",
       "    </tr>\n",
       "    <tr>\n",
       "      <th>2</th>\n",
       "      <td>Indiana</td>\n",
       "      <td>Madison County</td>\n",
       "      <td>2019</td>\n",
       "      <td>129569</td>\n",
       "      <td>129573</td>\n",
       "      <td>-0.000031</td>\n",
       "      <td>-4</td>\n",
       "    </tr>\n",
       "    <tr>\n",
       "      <th>3</th>\n",
       "      <td>Kansas</td>\n",
       "      <td>Franklin County</td>\n",
       "      <td>2019</td>\n",
       "      <td>25544</td>\n",
       "      <td>25625</td>\n",
       "      <td>-0.003161</td>\n",
       "      <td>-81</td>\n",
       "    </tr>\n",
       "    <tr>\n",
       "      <th>4</th>\n",
       "      <td>Kentucky</td>\n",
       "      <td>Green County</td>\n",
       "      <td>2019</td>\n",
       "      <td>10941</td>\n",
       "      <td>10998</td>\n",
       "      <td>-0.005183</td>\n",
       "      <td>-57</td>\n",
       "    </tr>\n",
       "    <tr>\n",
       "      <th>...</th>\n",
       "      <td>...</td>\n",
       "      <td>...</td>\n",
       "      <td>...</td>\n",
       "      <td>...</td>\n",
       "      <td>...</td>\n",
       "      <td>...</td>\n",
       "      <td>...</td>\n",
       "    </tr>\n",
       "    <tr>\n",
       "      <th>3215</th>\n",
       "      <td>South Dakota</td>\n",
       "      <td>Jones County</td>\n",
       "      <td>2019</td>\n",
       "      <td>903</td>\n",
       "      <td>928</td>\n",
       "      <td>-0.026940</td>\n",
       "      <td>-25</td>\n",
       "    </tr>\n",
       "    <tr>\n",
       "      <th>3216</th>\n",
       "      <td>Tennessee</td>\n",
       "      <td>Hardeman County</td>\n",
       "      <td>2019</td>\n",
       "      <td>25050</td>\n",
       "      <td>25276</td>\n",
       "      <td>-0.008941</td>\n",
       "      <td>-226</td>\n",
       "    </tr>\n",
       "    <tr>\n",
       "      <th>3217</th>\n",
       "      <td>Texas</td>\n",
       "      <td>Scurry County</td>\n",
       "      <td>2019</td>\n",
       "      <td>16703</td>\n",
       "      <td>16812</td>\n",
       "      <td>-0.006483</td>\n",
       "      <td>-109</td>\n",
       "    </tr>\n",
       "    <tr>\n",
       "      <th>3218</th>\n",
       "      <td>Wisconsin</td>\n",
       "      <td>Pierce County</td>\n",
       "      <td>2019</td>\n",
       "      <td>42754</td>\n",
       "      <td>42592</td>\n",
       "      <td>0.003804</td>\n",
       "      <td>162</td>\n",
       "    </tr>\n",
       "    <tr>\n",
       "      <th>3219</th>\n",
       "      <td>Wyoming</td>\n",
       "      <td>Lincoln County</td>\n",
       "      <td>2019</td>\n",
       "      <td>19830</td>\n",
       "      <td>19445</td>\n",
       "      <td>0.019799</td>\n",
       "      <td>385</td>\n",
       "    </tr>\n",
       "  </tbody>\n",
       "</table>\n",
       "<p>3220 rows × 7 columns</p>\n",
       "</div>"
      ],
      "text/plain": [
       "         StateName       CountyName  EstimationYear  EstimatedPopulation  \\\n",
       "0       California  Siskiyou County            2019                43539   \n",
       "1         Colorado  Saguache County            2019                 6824   \n",
       "2          Indiana   Madison County            2019               129569   \n",
       "3           Kansas  Franklin County            2019                25544   \n",
       "4         Kentucky     Green County            2019                10941   \n",
       "...            ...              ...             ...                  ...   \n",
       "3215  South Dakota     Jones County            2019                  903   \n",
       "3216     Tennessee  Hardeman County            2019                25050   \n",
       "3217         Texas    Scurry County            2019                16703   \n",
       "3218     Wisconsin    Pierce County            2019                42754   \n",
       "3219       Wyoming   Lincoln County            2019                19830   \n",
       "\n",
       "      lastpop  relative_delta  abs_delta  \n",
       "0       43550       -0.000253        -11  \n",
       "1        6840       -0.002339        -16  \n",
       "2      129573       -0.000031         -4  \n",
       "3       25625       -0.003161        -81  \n",
       "4       10998       -0.005183        -57  \n",
       "...       ...             ...        ...  \n",
       "3215      928       -0.026940        -25  \n",
       "3216    25276       -0.008941       -226  \n",
       "3217    16812       -0.006483       -109  \n",
       "3218    42592        0.003804        162  \n",
       "3219    19445        0.019799        385  \n",
       "\n",
       "[3220 rows x 7 columns]"
      ]
     },
     "execution_count": 3,
     "metadata": {},
     "output_type": "execute_result"
    }
   ],
   "source": [
    "pops = pd.read_csv(os.path.join(data_dir, \"county_growth_est.csv\"), delimiter='|')\n",
    "pops_grouped = pops.groupby(['StateName']).agg({'EstimatedPopulation':'sum', 'abs_delta':sum})\n",
    "pops_grouped.reset_index(inplace=True)\n",
    "pops_grouped\n",
    "pops"
   ]
  },
  {
   "cell_type": "code",
   "execution_count": 24,
   "id": "legislative-digest",
   "metadata": {},
   "outputs": [
    {
     "data": {
      "text/plain": [
       "1_Unknown      67\n",
       "3_Low          60\n",
       "2_Very Low     57\n",
       "4_High         55\n",
       "5_Very High    40\n",
       "Name: PaymentLevelName, dtype: int64"
      ]
     },
     "execution_count": 24,
     "metadata": {},
     "output_type": "execute_result"
    }
   ],
   "source": [
    "df2_groups_pivoted_100_sorted_cut_imputed.PaymentLevelName.value_counts()"
   ]
  },
  {
   "cell_type": "code",
   "execution_count": 15,
   "id": "employed-boards",
   "metadata": {},
   "outputs": [
    {
     "data": {
      "text/html": [
       "\n",
       "        <iframe\n",
       "            width=\"100%\"\n",
       "            height=\"650\"\n",
       "            src=\"http://127.0.0.1:8050/\"\n",
       "            frameborder=\"0\"\n",
       "            allowfullscreen\n",
       "        ></iframe>\n",
       "        "
      ],
      "text/plain": [
       "<IPython.lib.display.IFrame at 0x7eff603c9d60>"
      ]
     },
     "metadata": {},
     "output_type": "display_data"
    }
   ],
   "source": [
    "app = JupyterDash(__name__)\n",
    "app.layout = html.Div([\n",
    "    dcc.Slider(\n",
    "        min=0\n",
    "        ,max=10\n",
    "        ,step=1\n",
    "        ,dots=True\n",
    "        ,included=False\n",
    "        ,value=5\n",
    "    )\n",
    "])\n",
    "app.run_server(mode='inline')"
   ]
  },
  {
   "cell_type": "code",
   "execution_count": 5,
   "id": "outstanding-regulation",
   "metadata": {},
   "outputs": [
    {
     "name": "stdout",
     "output_type": "stream",
     "text": [
      "Dash app running on http://127.0.0.1:8050/\n"
     ]
    }
   ],
   "source": [
    "electric1 = px.colors.sequential.Electric[0]\n",
    "app.layout = html.Div([\n",
    "    dcc.Slider(\n",
    "        id='payment-lvl-slider', min=0, max=5, step=1, dots=True, included=False, value=5, marks={\n",
    "            0: {'label': 'Unknown', 'style': {'color': electric1, 'fontWeight': 'bold'}},\n",
    "            1: {'label': 'Very Low', 'style': {'color': electric1, 'fontWeight': 'bold'}},\n",
    "            2: {'label': 'Low', 'style': {'color': electric1, 'fontWeight': 'bold'}},\n",
    "            3: {'label': 'High', 'style': {'color': electric1, 'fontWeight': 'bold'}},\n",
    "            4: {'label': 'Very High', 'style': {'color': electric1, 'fontWeight': 'bold'}}\n",
    "        }\n",
    "    )\n",
    "])\n",
    "app.run_server(mode='external')"
   ]
  },
  {
   "cell_type": "code",
   "execution_count": 3,
   "id": "sized-colleague",
   "metadata": {},
   "outputs": [
    {
     "data": {
      "text/plain": [
       "'1642050000'"
      ]
     },
     "execution_count": 3,
     "metadata": {},
     "output_type": "execute_result"
    }
   ],
   "source": [
    "unix_format = '%s'\n",
    "format = \"%Y-%m-%d\"\n",
    "datetime.datetime.strptime('2022-01-13', format).strftime(unix_format)"
   ]
  },
  {
   "cell_type": "code",
   "execution_count": 4,
   "id": "complex-rochester",
   "metadata": {},
   "outputs": [],
   "source": [
    "def to_unix_or_reg(the_date: str, the_format: str, option: str):\n",
    "    unix_format = '%s'\n",
    "    if option == 'unix':\n",
    "        new_date = datetime.datetime.strptime(the_date, the_format).strftime(unix_format)\n",
    "    elif option == 'reg':\n",
    "        new_date = datetime.datetime.strptime(the_date, the_format).strftime(the_format)\n",
    "    else:\n",
    "        print('no good option')\n",
    "        exit(0)\n",
    "    return new_date"
   ]
  },
  {
   "cell_type": "code",
   "execution_count": 10,
   "id": "celtic-belgium",
   "metadata": {},
   "outputs": [
    {
     "name": "stdout",
     "output_type": "stream",
     "text": [
      "Dash app running on http://127.0.0.1:8050/\n"
     ]
    }
   ],
   "source": [
    "# the value can't be a string\n",
    "electric1 = px.colors.sequential.Electric[0]\n",
    "days = sorted(bus_cat_hold_loc_parquet.CloseDate.unique())\n",
    "format = \"%Y-%m-%d\"\n",
    "\n",
    "unix_format = '%s'\n",
    "\n",
    "app.layout = html.Div([\n",
    "    dcc.Slider(\n",
    "        id='payment-lvl-slider', min=0, max=4, step=1, dots=True, included=False, value=5, marks={\n",
    "            0: {'label': 'Unknown', 'style': {'color': electric1, 'fontWeight': 'bold'}},\n",
    "            1: {'label': 'Very Low', 'style': {'color': electric1, 'fontWeight': 'bold'}},\n",
    "            2: {'label': 'Low', 'style': {'color': electric1, 'fontWeight': 'bold'}},\n",
    "            3: {'label': 'High', 'style': {'color': electric1, 'fontWeight': 'bold'}},\n",
    "            4: {'label': 'Very High', 'style': {'color': electric1, 'fontWeight': 'bold'}}\n",
    "        }\n",
    "    )\n",
    "    ,dcc.Slider(\n",
    "        id='close-data-slider'\n",
    "        ,min=int(to_unix_or_reg(days[0], format, 'unix'))\n",
    "        ,max=int(to_unix_or_reg(days[-1], format, 'unix'))\n",
    "        ,step=1\n",
    "        ,dots=True\n",
    "        ,included=False\n",
    "        ,value= int(to_unix_or_reg('2022-01-13', format, 'unix'))\n",
    "        ,marks= {int(to_unix_or_reg(day, format, 'unix')): {'label': to_unix_or_reg(day, format, 'reg'), 'style':{'color': electric1, 'fontWeight':'bold'}}  for day in days}\n",
    "    )\n",
    "    , dcc.Graph(\n",
    "        id='slider-graph'\n",
    "    )\n",
    "])\n",
    "@app.callback(\n",
    "    Output('slider-graph', 'figure')\n",
    "    ,Input('payment-lvl-slider', 'value')\n",
    "    ,Input('close-data-slider', 'value')\n",
    ")\n",
    "def plot_day_payment_lvl(lvl, day):\n",
    "    day = bus_cat_hold_loc_parquet.loc[(bus_cat_hold_loc_parquet['PaymentLevelName'] == lvl) & (bus_cat_hold_loc_parquet['CloseDate'] == day)]\n",
    "    fig = go.Figure()\n",
    "    fig.layout.xaxis.title = lvl\n",
    "    fig.layout.yaxis.title = day\n",
    "    return fig\n",
    "app.run_server(mode='external')"
   ]
  },
  {
   "cell_type": "code",
   "execution_count": 12,
   "id": "dedicated-stability",
   "metadata": {},
   "outputs": [],
   "source": [
    "state_groups = bus_cat_hold_loc_parquet.groupby(['StateName'], as_index=False).agg({'Longitude': 'mean', 'Latitude': 'mean', 'abs_delta': 'sum'})\n"
   ]
  },
  {
   "cell_type": "code",
   "execution_count": null,
   "id": "integral-poison",
   "metadata": {},
   "outputs": [],
   "source": [
    "# need access token\n",
    "fig = go.Figure(\n",
    "    data=go.Scattermapbox(\n",
    "        lon=state_groups['Longitude'],\n",
    "        lat=state_groups['Latitude'],\n",
    "        mode='markers',\n",
    "        text = state_groups['abs_delta'].astype(str) , \n",
    "        marker = dict(\n",
    "            colorscale = 'Blues', \n",
    "            color=state_groups['abs_delta'],\n",
    "            colorbar = dict(\n",
    "            titleside = \"top\",\n",
    "            outlinecolor = \"rgba(68, 68, 68, 0)\",\n",
    "            title = \"Estimated Abosute Population <br> change from previous year\"\n",
    "\n",
    "        ))\n",
    "    )\n",
    ")\n",
    "# fig.update_layout(\n",
    "#     hovermode='closest',\n",
    "#     title= '<Br>',\n",
    "#     mapbox=dict(\n",
    "#         center=go.layout.mapbox.Center(\n",
    "#             lat=45,\n",
    "#             lon=-73\n",
    "#         ),\n",
    "#         color_discrete_sequence=['darkred'],\n",
    "#         mapbox_style='stamen-watercolor'\n",
    "#     )\n",
    ")\n",
    "fig.show()"
   ]
  },
  {
   "cell_type": "code",
   "execution_count": 23,
   "id": "wired-night",
   "metadata": {},
   "outputs": [
    {
     "data": {
      "application/vnd.plotly.v1+json": {
       "config": {
        "plotlyServerURL": "https://plot.ly"
       },
       "data": [
        {
         "hovertemplate": "size=%{marker.size}<br>lat=%{lat}<br>lon=%{lon}<extra></extra>",
         "lat": [
          34.29847900000001,
          32.74389618834082,
          59.32338205522787,
          33.92635372881528,
          35.00040739567601,
          49.117483000000036,
          32.64102833333331,
          51.45656175471734,
          29.272270600000013,
          37.591100530513316,
          39.03553028042807,
          41.670161230155124,
          53.52750000000002,
          39.143499576869054,
          38.89883790521684,
          28.577876558193868,
          21.044460000000008,
          33.155378471505976,
          41.52730400000001,
          21.257254455868015,
          44.571918971073956,
          40.76050180426584,
          40.074945830653085,
          42.113161333188714,
          38.416645656736094,
          37.654287040072916,
          30.96653438500467,
          49.16785041666676,
          44.65777985063593,
          39.05362544760919,
          41.90446266738076,
          43.71590954444669,
          45.31851739449023,
          32.989069349774965,
          38.255986741608396,
          46.57212567455424,
          41.38727220250229,
          39.11553261736702,
          43.272817374633085,
          40.234456618312926,
          34.52173076675121,
          42.328991831522536,
          35.57742830604849,
          47.56287428982213,
          48.81777683870974,
          40.24608495905288,
          35.50862802158521,
          44.36740835330545,
          40.72654992699277,
          18.311034385609123,
          46.39530000000001,
          41.67843923853202,
          55.44738,
          49.1359909411764,
          18.094336,
          33.9363852678399,
          44.136422552010096,
          35.91514672449513,
          31.3801621952539,
          39.50355100000001,
          40.220519967436445,
          -53.78946862499996,
          44.12473173916496,
          39.44325600000001,
          37.72201969827741,
          47.239806155677584,
          38.68404004128133,
          44.16513699886058,
          42.71561162292288,
          51.41073999999999,
          60.16967
         ],
         "legendgroup": "",
         "lon": [
          -108.12886699999994,
          -86.64905191086872,
          -141.1052109272621,
          -111.92410582758673,
          -91.97506626351877,
          -111.11039299999997,
          -115.46402233333338,
          -2.5999229811320776,
          -101.7384548,
          -120.74588346655446,
          -105.93786827425465,
          -72.52664249455296,
          -6.16655,
          -75.51275503385045,
          -77.01622595003708,
          -82.46435489973062,
          -100.64479099999997,
          -83.70767127307978,
          -97.633113,
          -157.6956636944694,
          -115.15645892440085,
          -88.88799968672592,
          -86.17472661705091,
          -92.9962931808974,
          -97.4970061332614,
          -85.34722241675905,
          -91.86683635315589,
          -98.01075175000005,
          -69.65007347653146,
          -76.62786886117175,
          -71.37700475981163,
          -84.94526518230478,
          -94.01668567801447,
          -89.64542084365496,
          -92.32948937190064,
          -111.07764767418887,
          -99.82232158161916,
          -117.4346419534079,
          -71.57944001820374,
          -74.59195486749928,
          -105.76769460284652,
          -75.4930988946149,
          -79.78621597407803,
          -100.41064654898923,
          -93.62790335483865,
          -82.70173986587855,
          -97.04464505237941,
          -121.65241964267248,
          -77.42392992155108,
          -66.40607320486494,
          -94.8279,
          -71.38866899082561,
          -4.616590000000001,
          -103.43088658823498,
          -67.055671,
          -81.06914442866471,
          -99.34291481214524,
          -85.8502733520688,
          -98.31582788149237,
          -99.018303,
          -111.66841637362744,
          -67.69844225000001,
          -72.81688389788181,
          -98.95733649999998,
          -78.08999083323211,
          -120.96938193002767,
          -80.88786401704442,
          -89.37644471390784,
          -107.19574085243667,
          0.0732,
          -134.7045699999999
         ],
         "marker": {
          "color": "darkred",
          "size": [
           5,
           5,
           5,
           5,
           5,
           5,
           5,
           5,
           5,
           5,
           5,
           5,
           5,
           5,
           5,
           5,
           5,
           5,
           5,
           5,
           5,
           5,
           5,
           5,
           5,
           5,
           5,
           5,
           5,
           5,
           5,
           5,
           5,
           5,
           5,
           5,
           5,
           5,
           5,
           5,
           5,
           5,
           5,
           5,
           5,
           5,
           5,
           5,
           5,
           5,
           5,
           5,
           5,
           5,
           5,
           5,
           5,
           5,
           5,
           5,
           5,
           5,
           5,
           5,
           5,
           5,
           5,
           5,
           5,
           5,
           5
          ],
          "sizemode": "area",
          "sizeref": 0.0125
         },
         "mode": "markers",
         "name": "",
         "showlegend": false,
         "subplot": "mapbox",
         "type": "scattermapbox"
        }
       ],
       "layout": {
        "autosize": true,
        "legend": {
         "itemsizing": "constant",
         "tracegroupgap": 0
        },
        "mapbox": {
         "center": {
          "lat": 44.967243,
          "lon": -103.77155
         },
         "domain": {
          "x": [
           0,
           1
          ],
          "y": [
           0,
           1
          ]
         },
         "style": "stamen-watercolor",
         "zoom": 1
        },
        "margin": {
         "t": 60
        },
        "template": {
         "data": {
          "bar": [
           {
            "error_x": {
             "color": "#2a3f5f"
            },
            "error_y": {
             "color": "#2a3f5f"
            },
            "marker": {
             "line": {
              "color": "#E5ECF6",
              "width": 0.5
             }
            },
            "type": "bar"
           }
          ],
          "barpolar": [
           {
            "marker": {
             "line": {
              "color": "#E5ECF6",
              "width": 0.5
             }
            },
            "type": "barpolar"
           }
          ],
          "carpet": [
           {
            "aaxis": {
             "endlinecolor": "#2a3f5f",
             "gridcolor": "white",
             "linecolor": "white",
             "minorgridcolor": "white",
             "startlinecolor": "#2a3f5f"
            },
            "baxis": {
             "endlinecolor": "#2a3f5f",
             "gridcolor": "white",
             "linecolor": "white",
             "minorgridcolor": "white",
             "startlinecolor": "#2a3f5f"
            },
            "type": "carpet"
           }
          ],
          "choropleth": [
           {
            "colorbar": {
             "outlinewidth": 0,
             "ticks": ""
            },
            "type": "choropleth"
           }
          ],
          "contour": [
           {
            "colorbar": {
             "outlinewidth": 0,
             "ticks": ""
            },
            "colorscale": [
             [
              0,
              "#0d0887"
             ],
             [
              0.1111111111111111,
              "#46039f"
             ],
             [
              0.2222222222222222,
              "#7201a8"
             ],
             [
              0.3333333333333333,
              "#9c179e"
             ],
             [
              0.4444444444444444,
              "#bd3786"
             ],
             [
              0.5555555555555556,
              "#d8576b"
             ],
             [
              0.6666666666666666,
              "#ed7953"
             ],
             [
              0.7777777777777778,
              "#fb9f3a"
             ],
             [
              0.8888888888888888,
              "#fdca26"
             ],
             [
              1,
              "#f0f921"
             ]
            ],
            "type": "contour"
           }
          ],
          "contourcarpet": [
           {
            "colorbar": {
             "outlinewidth": 0,
             "ticks": ""
            },
            "type": "contourcarpet"
           }
          ],
          "heatmap": [
           {
            "colorbar": {
             "outlinewidth": 0,
             "ticks": ""
            },
            "colorscale": [
             [
              0,
              "#0d0887"
             ],
             [
              0.1111111111111111,
              "#46039f"
             ],
             [
              0.2222222222222222,
              "#7201a8"
             ],
             [
              0.3333333333333333,
              "#9c179e"
             ],
             [
              0.4444444444444444,
              "#bd3786"
             ],
             [
              0.5555555555555556,
              "#d8576b"
             ],
             [
              0.6666666666666666,
              "#ed7953"
             ],
             [
              0.7777777777777778,
              "#fb9f3a"
             ],
             [
              0.8888888888888888,
              "#fdca26"
             ],
             [
              1,
              "#f0f921"
             ]
            ],
            "type": "heatmap"
           }
          ],
          "heatmapgl": [
           {
            "colorbar": {
             "outlinewidth": 0,
             "ticks": ""
            },
            "colorscale": [
             [
              0,
              "#0d0887"
             ],
             [
              0.1111111111111111,
              "#46039f"
             ],
             [
              0.2222222222222222,
              "#7201a8"
             ],
             [
              0.3333333333333333,
              "#9c179e"
             ],
             [
              0.4444444444444444,
              "#bd3786"
             ],
             [
              0.5555555555555556,
              "#d8576b"
             ],
             [
              0.6666666666666666,
              "#ed7953"
             ],
             [
              0.7777777777777778,
              "#fb9f3a"
             ],
             [
              0.8888888888888888,
              "#fdca26"
             ],
             [
              1,
              "#f0f921"
             ]
            ],
            "type": "heatmapgl"
           }
          ],
          "histogram": [
           {
            "marker": {
             "colorbar": {
              "outlinewidth": 0,
              "ticks": ""
             }
            },
            "type": "histogram"
           }
          ],
          "histogram2d": [
           {
            "colorbar": {
             "outlinewidth": 0,
             "ticks": ""
            },
            "colorscale": [
             [
              0,
              "#0d0887"
             ],
             [
              0.1111111111111111,
              "#46039f"
             ],
             [
              0.2222222222222222,
              "#7201a8"
             ],
             [
              0.3333333333333333,
              "#9c179e"
             ],
             [
              0.4444444444444444,
              "#bd3786"
             ],
             [
              0.5555555555555556,
              "#d8576b"
             ],
             [
              0.6666666666666666,
              "#ed7953"
             ],
             [
              0.7777777777777778,
              "#fb9f3a"
             ],
             [
              0.8888888888888888,
              "#fdca26"
             ],
             [
              1,
              "#f0f921"
             ]
            ],
            "type": "histogram2d"
           }
          ],
          "histogram2dcontour": [
           {
            "colorbar": {
             "outlinewidth": 0,
             "ticks": ""
            },
            "colorscale": [
             [
              0,
              "#0d0887"
             ],
             [
              0.1111111111111111,
              "#46039f"
             ],
             [
              0.2222222222222222,
              "#7201a8"
             ],
             [
              0.3333333333333333,
              "#9c179e"
             ],
             [
              0.4444444444444444,
              "#bd3786"
             ],
             [
              0.5555555555555556,
              "#d8576b"
             ],
             [
              0.6666666666666666,
              "#ed7953"
             ],
             [
              0.7777777777777778,
              "#fb9f3a"
             ],
             [
              0.8888888888888888,
              "#fdca26"
             ],
             [
              1,
              "#f0f921"
             ]
            ],
            "type": "histogram2dcontour"
           }
          ],
          "mesh3d": [
           {
            "colorbar": {
             "outlinewidth": 0,
             "ticks": ""
            },
            "type": "mesh3d"
           }
          ],
          "parcoords": [
           {
            "line": {
             "colorbar": {
              "outlinewidth": 0,
              "ticks": ""
             }
            },
            "type": "parcoords"
           }
          ],
          "pie": [
           {
            "automargin": true,
            "type": "pie"
           }
          ],
          "scatter": [
           {
            "marker": {
             "colorbar": {
              "outlinewidth": 0,
              "ticks": ""
             }
            },
            "type": "scatter"
           }
          ],
          "scatter3d": [
           {
            "line": {
             "colorbar": {
              "outlinewidth": 0,
              "ticks": ""
             }
            },
            "marker": {
             "colorbar": {
              "outlinewidth": 0,
              "ticks": ""
             }
            },
            "type": "scatter3d"
           }
          ],
          "scattercarpet": [
           {
            "marker": {
             "colorbar": {
              "outlinewidth": 0,
              "ticks": ""
             }
            },
            "type": "scattercarpet"
           }
          ],
          "scattergeo": [
           {
            "marker": {
             "colorbar": {
              "outlinewidth": 0,
              "ticks": ""
             }
            },
            "type": "scattergeo"
           }
          ],
          "scattergl": [
           {
            "marker": {
             "colorbar": {
              "outlinewidth": 0,
              "ticks": ""
             }
            },
            "type": "scattergl"
           }
          ],
          "scattermapbox": [
           {
            "marker": {
             "colorbar": {
              "outlinewidth": 0,
              "ticks": ""
             }
            },
            "type": "scattermapbox"
           }
          ],
          "scatterpolar": [
           {
            "marker": {
             "colorbar": {
              "outlinewidth": 0,
              "ticks": ""
             }
            },
            "type": "scatterpolar"
           }
          ],
          "scatterpolargl": [
           {
            "marker": {
             "colorbar": {
              "outlinewidth": 0,
              "ticks": ""
             }
            },
            "type": "scatterpolargl"
           }
          ],
          "scatterternary": [
           {
            "marker": {
             "colorbar": {
              "outlinewidth": 0,
              "ticks": ""
             }
            },
            "type": "scatterternary"
           }
          ],
          "surface": [
           {
            "colorbar": {
             "outlinewidth": 0,
             "ticks": ""
            },
            "colorscale": [
             [
              0,
              "#0d0887"
             ],
             [
              0.1111111111111111,
              "#46039f"
             ],
             [
              0.2222222222222222,
              "#7201a8"
             ],
             [
              0.3333333333333333,
              "#9c179e"
             ],
             [
              0.4444444444444444,
              "#bd3786"
             ],
             [
              0.5555555555555556,
              "#d8576b"
             ],
             [
              0.6666666666666666,
              "#ed7953"
             ],
             [
              0.7777777777777778,
              "#fb9f3a"
             ],
             [
              0.8888888888888888,
              "#fdca26"
             ],
             [
              1,
              "#f0f921"
             ]
            ],
            "type": "surface"
           }
          ],
          "table": [
           {
            "cells": {
             "fill": {
              "color": "#EBF0F8"
             },
             "line": {
              "color": "white"
             }
            },
            "header": {
             "fill": {
              "color": "#C8D4E3"
             },
             "line": {
              "color": "white"
             }
            },
            "type": "table"
           }
          ]
         },
         "layout": {
          "annotationdefaults": {
           "arrowcolor": "#2a3f5f",
           "arrowhead": 0,
           "arrowwidth": 1
          },
          "autotypenumbers": "strict",
          "coloraxis": {
           "colorbar": {
            "outlinewidth": 0,
            "ticks": ""
           }
          },
          "colorscale": {
           "diverging": [
            [
             0,
             "#8e0152"
            ],
            [
             0.1,
             "#c51b7d"
            ],
            [
             0.2,
             "#de77ae"
            ],
            [
             0.3,
             "#f1b6da"
            ],
            [
             0.4,
             "#fde0ef"
            ],
            [
             0.5,
             "#f7f7f7"
            ],
            [
             0.6,
             "#e6f5d0"
            ],
            [
             0.7,
             "#b8e186"
            ],
            [
             0.8,
             "#7fbc41"
            ],
            [
             0.9,
             "#4d9221"
            ],
            [
             1,
             "#276419"
            ]
           ],
           "sequential": [
            [
             0,
             "#0d0887"
            ],
            [
             0.1111111111111111,
             "#46039f"
            ],
            [
             0.2222222222222222,
             "#7201a8"
            ],
            [
             0.3333333333333333,
             "#9c179e"
            ],
            [
             0.4444444444444444,
             "#bd3786"
            ],
            [
             0.5555555555555556,
             "#d8576b"
            ],
            [
             0.6666666666666666,
             "#ed7953"
            ],
            [
             0.7777777777777778,
             "#fb9f3a"
            ],
            [
             0.8888888888888888,
             "#fdca26"
            ],
            [
             1,
             "#f0f921"
            ]
           ],
           "sequentialminus": [
            [
             0,
             "#0d0887"
            ],
            [
             0.1111111111111111,
             "#46039f"
            ],
            [
             0.2222222222222222,
             "#7201a8"
            ],
            [
             0.3333333333333333,
             "#9c179e"
            ],
            [
             0.4444444444444444,
             "#bd3786"
            ],
            [
             0.5555555555555556,
             "#d8576b"
            ],
            [
             0.6666666666666666,
             "#ed7953"
            ],
            [
             0.7777777777777778,
             "#fb9f3a"
            ],
            [
             0.8888888888888888,
             "#fdca26"
            ],
            [
             1,
             "#f0f921"
            ]
           ]
          },
          "colorway": [
           "#636efa",
           "#EF553B",
           "#00cc96",
           "#ab63fa",
           "#FFA15A",
           "#19d3f3",
           "#FF6692",
           "#B6E880",
           "#FF97FF",
           "#FECB52"
          ],
          "font": {
           "color": "#2a3f5f"
          },
          "geo": {
           "bgcolor": "white",
           "lakecolor": "white",
           "landcolor": "#E5ECF6",
           "showlakes": true,
           "showland": true,
           "subunitcolor": "white"
          },
          "hoverlabel": {
           "align": "left"
          },
          "hovermode": "closest",
          "mapbox": {
           "style": "light"
          },
          "paper_bgcolor": "white",
          "plot_bgcolor": "#E5ECF6",
          "polar": {
           "angularaxis": {
            "gridcolor": "white",
            "linecolor": "white",
            "ticks": ""
           },
           "bgcolor": "#E5ECF6",
           "radialaxis": {
            "gridcolor": "white",
            "linecolor": "white",
            "ticks": ""
           }
          },
          "scene": {
           "xaxis": {
            "backgroundcolor": "#E5ECF6",
            "gridcolor": "white",
            "gridwidth": 2,
            "linecolor": "white",
            "showbackground": true,
            "ticks": "",
            "zerolinecolor": "white"
           },
           "yaxis": {
            "backgroundcolor": "#E5ECF6",
            "gridcolor": "white",
            "gridwidth": 2,
            "linecolor": "white",
            "showbackground": true,
            "ticks": "",
            "zerolinecolor": "white"
           },
           "zaxis": {
            "backgroundcolor": "#E5ECF6",
            "gridcolor": "white",
            "gridwidth": 2,
            "linecolor": "white",
            "showbackground": true,
            "ticks": "",
            "zerolinecolor": "white"
           }
          },
          "shapedefaults": {
           "line": {
            "color": "#2a3f5f"
           }
          },
          "ternary": {
           "aaxis": {
            "gridcolor": "white",
            "linecolor": "white",
            "ticks": ""
           },
           "baxis": {
            "gridcolor": "white",
            "linecolor": "white",
            "ticks": ""
           },
           "bgcolor": "#E5ECF6",
           "caxis": {
            "gridcolor": "white",
            "linecolor": "white",
            "ticks": ""
           }
          },
          "title": {
           "x": 0.05
          },
          "xaxis": {
           "automargin": true,
           "gridcolor": "white",
           "linecolor": "white",
           "ticks": "",
           "title": {
            "standoff": 15
           },
           "zerolinecolor": "white",
           "zerolinewidth": 2
          },
          "yaxis": {
           "automargin": true,
           "gridcolor": "white",
           "linecolor": "white",
           "ticks": "",
           "title": {
            "standoff": 15
           },
           "zerolinecolor": "white",
           "zerolinewidth": 2
          }
         }
        }
       }
      },
      "image/png": "[encoded data removed]",
      "text/html": [
       "<div>                            <div id=\"22b986ee-1f5d-4379-ac47-687b74c5464c\" class=\"plotly-graph-div\" style=\"height:525px; width:100%;\"></div>            <script type=\"text/javascript\">                require([\"plotly\"], function(Plotly) {                    window.PLOTLYENV=window.PLOTLYENV || {};                                    if (document.getElementById(\"22b986ee-1f5d-4379-ac47-687b74c5464c\")) {                    Plotly.newPlot(                        \"22b986ee-1f5d-4379-ac47-687b74c5464c\",                        [{\"hovertemplate\": \"size=%{marker.size}<br>lat=%{lat}<br>lon=%{lon}<extra></extra>\", \"lat\": [34.29847900000001, 32.74389618834082, 59.32338205522787, 33.92635372881528, 35.00040739567601, 49.117483000000036, 32.64102833333331, 51.45656175471734, 29.272270600000013, 37.591100530513316, 39.03553028042807, 41.670161230155124, 53.52750000000002, 39.143499576869054, 38.89883790521684, 28.577876558193868, 21.044460000000008, 33.155378471505976, 41.52730400000001, 21.257254455868015, 44.571918971073956, 40.76050180426584, 40.074945830653085, 42.113161333188714, 38.416645656736094, 37.654287040072916, 30.96653438500467, 49.16785041666676, 44.65777985063593, 39.05362544760919, 41.90446266738076, 43.71590954444669, 45.31851739449023, 32.989069349774965, 38.255986741608396, 46.57212567455424, 41.38727220250229, 39.11553261736702, 43.272817374633085, 40.234456618312926, 34.52173076675121, 42.328991831522536, 35.57742830604849, 47.56287428982213, 48.81777683870974, 40.24608495905288, 35.50862802158521, 44.36740835330545, 40.72654992699277, 18.311034385609123, 46.39530000000001, 41.67843923853202, 55.44738, 49.1359909411764, 18.094336, 33.9363852678399, 44.136422552010096, 35.91514672449513, 31.3801621952539, 39.50355100000001, 40.220519967436445, -53.78946862499996, 44.12473173916496, 39.44325600000001, 37.72201969827741, 47.239806155677584, 38.68404004128133, 44.16513699886058, 42.71561162292288, 51.41073999999999, 60.16967], \"legendgroup\": \"\", \"lon\": [-108.12886699999994, -86.64905191086872, -141.1052109272621, -111.92410582758673, -91.97506626351877, -111.11039299999997, -115.46402233333338, -2.5999229811320776, -101.7384548, -120.74588346655446, -105.93786827425465, -72.52664249455296, -6.16655, -75.51275503385045, -77.01622595003708, -82.46435489973062, -100.64479099999997, -83.70767127307978, -97.633113, -157.6956636944694, -115.15645892440085, -88.88799968672592, -86.17472661705091, -92.9962931808974, -97.4970061332614, -85.34722241675905, -91.86683635315589, -98.01075175000005, -69.65007347653146, -76.62786886117175, -71.37700475981163, -84.94526518230478, -94.01668567801447, -89.64542084365496, -92.32948937190064, -111.07764767418887, -99.82232158161916, -117.4346419534079, -71.57944001820374, -74.59195486749928, -105.76769460284652, -75.4930988946149, -79.78621597407803, -100.41064654898923, -93.62790335483865, -82.70173986587855, -97.04464505237941, -121.65241964267248, -77.42392992155108, -66.40607320486494, -94.8279, -71.38866899082561, -4.616590000000001, -103.43088658823498, -67.055671, -81.06914442866471, -99.34291481214524, -85.8502733520688, -98.31582788149237, -99.018303, -111.66841637362744, -67.69844225000001, -72.81688389788181, -98.95733649999998, -78.08999083323211, -120.96938193002767, -80.88786401704442, -89.37644471390784, -107.19574085243667, 0.0732, -134.7045699999999], \"marker\": {\"color\": \"darkred\", \"size\": [5, 5, 5, 5, 5, 5, 5, 5, 5, 5, 5, 5, 5, 5, 5, 5, 5, 5, 5, 5, 5, 5, 5, 5, 5, 5, 5, 5, 5, 5, 5, 5, 5, 5, 5, 5, 5, 5, 5, 5, 5, 5, 5, 5, 5, 5, 5, 5, 5, 5, 5, 5, 5, 5, 5, 5, 5, 5, 5, 5, 5, 5, 5, 5, 5, 5, 5, 5, 5, 5, 5], \"sizemode\": \"area\", \"sizeref\": 0.0125}, \"mode\": \"markers\", \"name\": \"\", \"showlegend\": false, \"subplot\": \"mapbox\", \"type\": \"scattermapbox\"}],                        {\"legend\": {\"itemsizing\": \"constant\", \"tracegroupgap\": 0}, \"mapbox\": {\"center\": {\"lat\": 44.967243, \"lon\": -103.77155}, \"domain\": {\"x\": [0.0, 1.0], \"y\": [0.0, 1.0]}, \"style\": \"stamen-watercolor\", \"zoom\": 1}, \"margin\": {\"t\": 60}, \"template\": {\"data\": {\"bar\": [{\"error_x\": {\"color\": \"#2a3f5f\"}, \"error_y\": {\"color\": \"#2a3f5f\"}, \"marker\": {\"line\": {\"color\": \"#E5ECF6\", \"width\": 0.5}}, \"type\": \"bar\"}], \"barpolar\": [{\"marker\": {\"line\": {\"color\": \"#E5ECF6\", \"width\": 0.5}}, \"type\": \"barpolar\"}], \"carpet\": [{\"aaxis\": {\"endlinecolor\": \"#2a3f5f\", \"gridcolor\": \"white\", \"linecolor\": \"white\", \"minorgridcolor\": \"white\", \"startlinecolor\": \"#2a3f5f\"}, \"baxis\": {\"endlinecolor\": \"#2a3f5f\", \"gridcolor\": \"white\", \"linecolor\": \"white\", \"minorgridcolor\": \"white\", \"startlinecolor\": \"#2a3f5f\"}, \"type\": \"carpet\"}], \"choropleth\": [{\"colorbar\": {\"outlinewidth\": 0, \"ticks\": \"\"}, \"type\": \"choropleth\"}], \"contour\": [{\"colorbar\": {\"outlinewidth\": 0, \"ticks\": \"\"}, \"colorscale\": [[0.0, \"#0d0887\"], [0.1111111111111111, \"#46039f\"], [0.2222222222222222, \"#7201a8\"], [0.3333333333333333, \"#9c179e\"], [0.4444444444444444, \"#bd3786\"], [0.5555555555555556, \"#d8576b\"], [0.6666666666666666, \"#ed7953\"], [0.7777777777777778, \"#fb9f3a\"], [0.8888888888888888, \"#fdca26\"], [1.0, \"#f0f921\"]], \"type\": \"contour\"}], \"contourcarpet\": [{\"colorbar\": {\"outlinewidth\": 0, \"ticks\": \"\"}, \"type\": \"contourcarpet\"}], \"heatmap\": [{\"colorbar\": {\"outlinewidth\": 0, \"ticks\": \"\"}, \"colorscale\": [[0.0, \"#0d0887\"], [0.1111111111111111, \"#46039f\"], [0.2222222222222222, \"#7201a8\"], [0.3333333333333333, \"#9c179e\"], [0.4444444444444444, \"#bd3786\"], [0.5555555555555556, \"#d8576b\"], [0.6666666666666666, \"#ed7953\"], [0.7777777777777778, \"#fb9f3a\"], [0.8888888888888888, \"#fdca26\"], [1.0, \"#f0f921\"]], \"type\": \"heatmap\"}], \"heatmapgl\": [{\"colorbar\": {\"outlinewidth\": 0, \"ticks\": \"\"}, \"colorscale\": [[0.0, \"#0d0887\"], [0.1111111111111111, \"#46039f\"], [0.2222222222222222, \"#7201a8\"], [0.3333333333333333, \"#9c179e\"], [0.4444444444444444, \"#bd3786\"], [0.5555555555555556, \"#d8576b\"], [0.6666666666666666, \"#ed7953\"], [0.7777777777777778, \"#fb9f3a\"], [0.8888888888888888, \"#fdca26\"], [1.0, \"#f0f921\"]], \"type\": \"heatmapgl\"}], \"histogram\": [{\"marker\": {\"colorbar\": {\"outlinewidth\": 0, \"ticks\": \"\"}}, \"type\": \"histogram\"}], \"histogram2d\": [{\"colorbar\": {\"outlinewidth\": 0, \"ticks\": \"\"}, \"colorscale\": [[0.0, \"#0d0887\"], [0.1111111111111111, \"#46039f\"], [0.2222222222222222, \"#7201a8\"], [0.3333333333333333, \"#9c179e\"], [0.4444444444444444, \"#bd3786\"], [0.5555555555555556, \"#d8576b\"], [0.6666666666666666, \"#ed7953\"], [0.7777777777777778, \"#fb9f3a\"], [0.8888888888888888, \"#fdca26\"], [1.0, \"#f0f921\"]], \"type\": \"histogram2d\"}], \"histogram2dcontour\": [{\"colorbar\": {\"outlinewidth\": 0, \"ticks\": \"\"}, \"colorscale\": [[0.0, \"#0d0887\"], [0.1111111111111111, \"#46039f\"], [0.2222222222222222, \"#7201a8\"], [0.3333333333333333, \"#9c179e\"], [0.4444444444444444, \"#bd3786\"], [0.5555555555555556, \"#d8576b\"], [0.6666666666666666, \"#ed7953\"], [0.7777777777777778, \"#fb9f3a\"], [0.8888888888888888, \"#fdca26\"], [1.0, \"#f0f921\"]], \"type\": \"histogram2dcontour\"}], \"mesh3d\": [{\"colorbar\": {\"outlinewidth\": 0, \"ticks\": \"\"}, \"type\": \"mesh3d\"}], \"parcoords\": [{\"line\": {\"colorbar\": {\"outlinewidth\": 0, \"ticks\": \"\"}}, \"type\": \"parcoords\"}], \"pie\": [{\"automargin\": true, \"type\": \"pie\"}], \"scatter\": [{\"marker\": {\"colorbar\": {\"outlinewidth\": 0, \"ticks\": \"\"}}, \"type\": \"scatter\"}], \"scatter3d\": [{\"line\": {\"colorbar\": {\"outlinewidth\": 0, \"ticks\": \"\"}}, \"marker\": {\"colorbar\": {\"outlinewidth\": 0, \"ticks\": \"\"}}, \"type\": \"scatter3d\"}], \"scattercarpet\": [{\"marker\": {\"colorbar\": {\"outlinewidth\": 0, \"ticks\": \"\"}}, \"type\": \"scattercarpet\"}], \"scattergeo\": [{\"marker\": {\"colorbar\": {\"outlinewidth\": 0, \"ticks\": \"\"}}, \"type\": \"scattergeo\"}], \"scattergl\": [{\"marker\": {\"colorbar\": {\"outlinewidth\": 0, \"ticks\": \"\"}}, \"type\": \"scattergl\"}], \"scattermapbox\": [{\"marker\": {\"colorbar\": {\"outlinewidth\": 0, \"ticks\": \"\"}}, \"type\": \"scattermapbox\"}], \"scatterpolar\": [{\"marker\": {\"colorbar\": {\"outlinewidth\": 0, \"ticks\": \"\"}}, \"type\": \"scatterpolar\"}], \"scatterpolargl\": [{\"marker\": {\"colorbar\": {\"outlinewidth\": 0, \"ticks\": \"\"}}, \"type\": \"scatterpolargl\"}], \"scatterternary\": [{\"marker\": {\"colorbar\": {\"outlinewidth\": 0, \"ticks\": \"\"}}, \"type\": \"scatterternary\"}], \"surface\": [{\"colorbar\": {\"outlinewidth\": 0, \"ticks\": \"\"}, \"colorscale\": [[0.0, \"#0d0887\"], [0.1111111111111111, \"#46039f\"], [0.2222222222222222, \"#7201a8\"], [0.3333333333333333, \"#9c179e\"], [0.4444444444444444, \"#bd3786\"], [0.5555555555555556, \"#d8576b\"], [0.6666666666666666, \"#ed7953\"], [0.7777777777777778, \"#fb9f3a\"], [0.8888888888888888, \"#fdca26\"], [1.0, \"#f0f921\"]], \"type\": \"surface\"}], \"table\": [{\"cells\": {\"fill\": {\"color\": \"#EBF0F8\"}, \"line\": {\"color\": \"white\"}}, \"header\": {\"fill\": {\"color\": \"#C8D4E3\"}, \"line\": {\"color\": \"white\"}}, \"type\": \"table\"}]}, \"layout\": {\"annotationdefaults\": {\"arrowcolor\": \"#2a3f5f\", \"arrowhead\": 0, \"arrowwidth\": 1}, \"autotypenumbers\": \"strict\", \"coloraxis\": {\"colorbar\": {\"outlinewidth\": 0, \"ticks\": \"\"}}, \"colorscale\": {\"diverging\": [[0, \"#8e0152\"], [0.1, \"#c51b7d\"], [0.2, \"#de77ae\"], [0.3, \"#f1b6da\"], [0.4, \"#fde0ef\"], [0.5, \"#f7f7f7\"], [0.6, \"#e6f5d0\"], [0.7, \"#b8e186\"], [0.8, \"#7fbc41\"], [0.9, \"#4d9221\"], [1, \"#276419\"]], \"sequential\": [[0.0, \"#0d0887\"], [0.1111111111111111, \"#46039f\"], [0.2222222222222222, \"#7201a8\"], [0.3333333333333333, \"#9c179e\"], [0.4444444444444444, \"#bd3786\"], [0.5555555555555556, \"#d8576b\"], [0.6666666666666666, \"#ed7953\"], [0.7777777777777778, \"#fb9f3a\"], [0.8888888888888888, \"#fdca26\"], [1.0, \"#f0f921\"]], \"sequentialminus\": [[0.0, \"#0d0887\"], [0.1111111111111111, \"#46039f\"], [0.2222222222222222, \"#7201a8\"], [0.3333333333333333, \"#9c179e\"], [0.4444444444444444, \"#bd3786\"], [0.5555555555555556, \"#d8576b\"], [0.6666666666666666, \"#ed7953\"], [0.7777777777777778, \"#fb9f3a\"], [0.8888888888888888, \"#fdca26\"], [1.0, \"#f0f921\"]]}, \"colorway\": [\"#636efa\", \"#EF553B\", \"#00cc96\", \"#ab63fa\", \"#FFA15A\", \"#19d3f3\", \"#FF6692\", \"#B6E880\", \"#FF97FF\", \"#FECB52\"], \"font\": {\"color\": \"#2a3f5f\"}, \"geo\": {\"bgcolor\": \"white\", \"lakecolor\": \"white\", \"landcolor\": \"#E5ECF6\", \"showlakes\": true, \"showland\": true, \"subunitcolor\": \"white\"}, \"hoverlabel\": {\"align\": \"left\"}, \"hovermode\": \"closest\", \"mapbox\": {\"style\": \"light\"}, \"paper_bgcolor\": \"white\", \"plot_bgcolor\": \"#E5ECF6\", \"polar\": {\"angularaxis\": {\"gridcolor\": \"white\", \"linecolor\": \"white\", \"ticks\": \"\"}, \"bgcolor\": \"#E5ECF6\", \"radialaxis\": {\"gridcolor\": \"white\", \"linecolor\": \"white\", \"ticks\": \"\"}}, \"scene\": {\"xaxis\": {\"backgroundcolor\": \"#E5ECF6\", \"gridcolor\": \"white\", \"gridwidth\": 2, \"linecolor\": \"white\", \"showbackground\": true, \"ticks\": \"\", \"zerolinecolor\": \"white\"}, \"yaxis\": {\"backgroundcolor\": \"#E5ECF6\", \"gridcolor\": \"white\", \"gridwidth\": 2, \"linecolor\": \"white\", \"showbackground\": true, \"ticks\": \"\", \"zerolinecolor\": \"white\"}, \"zaxis\": {\"backgroundcolor\": \"#E5ECF6\", \"gridcolor\": \"white\", \"gridwidth\": 2, \"linecolor\": \"white\", \"showbackground\": true, \"ticks\": \"\", \"zerolinecolor\": \"white\"}}, \"shapedefaults\": {\"line\": {\"color\": \"#2a3f5f\"}}, \"ternary\": {\"aaxis\": {\"gridcolor\": \"white\", \"linecolor\": \"white\", \"ticks\": \"\"}, \"baxis\": {\"gridcolor\": \"white\", \"linecolor\": \"white\", \"ticks\": \"\"}, \"bgcolor\": \"#E5ECF6\", \"caxis\": {\"gridcolor\": \"white\", \"linecolor\": \"white\", \"ticks\": \"\"}}, \"title\": {\"x\": 0.05}, \"xaxis\": {\"automargin\": true, \"gridcolor\": \"white\", \"linecolor\": \"white\", \"ticks\": \"\", \"title\": {\"standoff\": 15}, \"zerolinecolor\": \"white\", \"zerolinewidth\": 2}, \"yaxis\": {\"automargin\": true, \"gridcolor\": \"white\", \"linecolor\": \"white\", \"ticks\": \"\", \"title\": {\"standoff\": 15}, \"zerolinecolor\": \"white\", \"zerolinewidth\": 2}}}},                        {\"responsive\": true}                    ).then(function(){\n",
       "                            \n",
       "var gd = document.getElementById('22b986ee-1f5d-4379-ac47-687b74c5464c');\n",
       "var x = new MutationObserver(function (mutations, observer) {{\n",
       "        var display = window.getComputedStyle(gd).display;\n",
       "        if (!display || display === 'none') {{\n",
       "            console.log([gd, 'removed!']);\n",
       "            Plotly.purge(gd);\n",
       "            observer.disconnect();\n",
       "        }}\n",
       "}});\n",
       "\n",
       "// Listen for the removal of the full notebook cells\n",
       "var notebookContainer = gd.closest('#notebook-container');\n",
       "if (notebookContainer) {{\n",
       "    x.observe(notebookContainer, {childList: true});\n",
       "}}\n",
       "\n",
       "// Listen for the clearing of the current output cell\n",
       "var outputEl = gd.closest('.output');\n",
       "if (outputEl) {{\n",
       "    x.observe(outputEl, {childList: true});\n",
       "}}\n",
       "\n",
       "                        })                };                });            </script>        </div>"
      ]
     },
     "metadata": {},
     "output_type": "display_data"
    }
   ],
   "source": [
    "px.scatter_mapbox(\n",
    "    lon=state_groups['Longitude'],\n",
    "    lat=state_groups['Latitude'],\n",
    "    zoom=1,\n",
    "    center=go.layout.mapbox.Center(\n",
    "            lat=44.967243,\n",
    "            lon=-103.77155\n",
    "        ),\n",
    "    size=[1] * state_groups.shape[0],\n",
    "    color_discrete_sequence=['darkred'],\n",
    "    mapbox_style='stamen-watercolor'\n",
    " )"
   ]
  },
  {
   "cell_type": "code",
   "execution_count": 8,
   "id": "valued-vancouver",
   "metadata": {},
   "outputs": [
    {
     "data": {
      "text/html": [
       "\n",
       "        <iframe\n",
       "            width=\"100%\"\n",
       "            height=\"650\"\n",
       "            src=\"http://127.0.0.1:8050/\"\n",
       "            frameborder=\"0\"\n",
       "            allowfullscreen\n",
       "        ></iframe>\n",
       "        "
      ],
      "text/plain": [
       "<IPython.lib.display.IFrame at 0x7ffaf5993550>"
      ]
     },
     "metadata": {},
     "output_type": "display_data"
    }
   ],
   "source": [
    "app.layout = html.Div([dcc.Dropdown(id='map_dropdown_menu', \n",
    "                value='BusinessName',\n",
    "                options=[{'label':col, 'value':col} for col in country_counts.iloc[:, 2:]]\n",
    ")\n",
    "                ,dcc.Graph(id='map1')\n",
    "                      ])\n",
    "@app.callback(Output('map1', 'figure'),\n",
    " Input('map_dropdown_menu', 'value'))\n",
    "def state_map1(col: str):\n",
    "\n",
    "    fig= px.choropleth(data_frame=country_counts, locationmode='USA-states', locations='state_abrv' , \n",
    "                    color=col, color_continuous_scale='amp', animation_frame='CloseDate', height=700, width=1000,\n",
    "                    hover_name='state_abrv')\n",
    "    fig.layout.title = col\n",
    "    fig.layout.geo.showframe = False\n",
    "    fig.layout.geo.showsubunits = True\n",
    "    fig.layout.geo.showcountries = True\n",
    "    fig.layout.geo.projection.type = 'natural earth'\n",
    "    fig.layout.geo.lonaxis.range = [-300,300]\n",
    "    fig.layout.geo.lataxis.range = [-53, 76]\n",
    "    return fig\n",
    "app.run_server(mode='inline')"
   ]
  }
 ],
 "metadata": {
  "kernelspec": {
   "display_name": "Python 3 (ipykernel)",
   "language": "python",
   "name": "python3"
  },
  "language_info": {
   "codemirror_mode": {
    "name": "ipython",
    "version": 3
   },
   "file_extension": ".py",
   "mimetype": "text/x-python",
   "name": "python",
   "nbconvert_exporter": "python",
   "pygments_lexer": "ipython3",
   "version": "3.8.10"
  },
  "toc-showcode": false,
  "toc-showtags": true
 },
 "nbformat": 4,
 "nbformat_minor": 5
}
