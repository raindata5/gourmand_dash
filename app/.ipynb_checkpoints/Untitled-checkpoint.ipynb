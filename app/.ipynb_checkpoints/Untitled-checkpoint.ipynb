{
 "cells": [
  {
   "cell_type": "code",
   "execution_count": 2,
   "id": "respiratory-location",
   "metadata": {},
   "outputs": [],
   "source": [
    "import dash\n",
    "import dash_html_components as html\n",
    "import dash_bootstrap_components as dbc\n",
    "from jupyter_dash import JupyterDash\n",
    "import dash_core_components as dcc\n",
    "from dash.dependencies import Output, Input\n",
    "\n",
    "\n",
    "# app = dash.Dash(__name__, external_stylesheets=[dbc.themes.DARKLY])\n",
    "app = JupyterDash(__name__)\n",
    "\n",
    "app.layout = html.Div([\n",
    "    html.H1('Gourmand Database',\n",
    "        style={'color':'orange',\n",
    "            'fontSize':'50px'}),\n",
    "    html.H2('Businesses'),\n",
    "    dbc.Tabs([\n",
    "        dbc.Tab([\n",
    "            html.Ul([\n",
    "                html.Li('Counts: '),\n",
    "                html.Li('Unique: '),\n",
    "                html.Li('Top Chain: '),\n",
    "                html.Li('Highest Review Count: '),\n",
    "            dbc.Col(\n",
    "                html.Li('Computer screen <--> phone screen'), lg={'size': 3, 'offset': \n",
    "                1}, sm={'size': 7, 'offset': \n",
    "                5})\n",
    "            ])\n",
    "    ], label='Data at a Glance'),\n",
    "        dbc.Tab([\n",
    "            html.Ul([\n",
    "                html.Br()\n",
    "                ,html.Li([\n",
    "                    'Github Repo: '\n",
    "                    ,html.A('gourmand-data-pipelines', href='https://github.com/raindata5/gourmand-data-pipelines')\n",
    "                ])\n",
    "                ,html.Li(['Source: ',\n",
    "                html.A('Yelp', href='https://www.yelp.com/developers/documentation/v3')\n",
    "                ])\n",
    "            ])\n",
    "        ], label='Background Information')\n",
    "    ])\n",
    "\n",
    "    ,\n",
    "    dbc.Row(\n",
    "            [\n",
    "                dbc.Col('BusinessID',width=1 ),\n",
    "                dbc.Col('BusinessName', width =2)\n",
    "                ]\n",
    "            ),\n",
    "    dcc.Dropdown(id = 'color_dropdown_menu', options=[\n",
    "        {'label':color, 'value':color} for color in ['red', 'blue', 'green']\n",
    "    ])\n",
    "    ,html.Div(id='color_output')\n",
    "]\n",
    ")\n",
    "\n",
    "@app.callback(Output('color_output', 'children'),\n",
    "                Input('color_dropdown_menu', 'value'))\n",
    "def display_desired_color(color):\n",
    "    if not color:\n",
    "        color = 'nothing'\n",
    "    return f'Has eligido {color}'\n",
    "    \n",
    "if __name__ == '__main__':\n",
    "    app.run_server(mode='jupyterlab')\n"
   ]
  },
  {
   "cell_type": "code",
   "execution_count": 5,
   "id": "cutting-ordinary",
   "metadata": {},
   "outputs": [
    {
     "ename": "ModuleNotFoundError",
     "evalue": "No module named 'jupyterlab_dash'",
     "output_type": "error",
     "traceback": [
      "\u001b[0;31m---------------------------------------------------------------------------\u001b[0m",
      "\u001b[0;31mModuleNotFoundError\u001b[0m                       Traceback (most recent call last)",
      "\u001b[0;32m<ipython-input-5-ebb8e1b3121c>\u001b[0m in \u001b[0;36m<module>\u001b[0;34m\u001b[0m\n\u001b[0;32m----> 1\u001b[0;31m \u001b[0;32mfrom\u001b[0m \u001b[0mjupyterlab_dash\u001b[0m \u001b[0;32mimport\u001b[0m \u001b[0mAppViewer\u001b[0m\u001b[0;34m\u001b[0m\u001b[0;34m\u001b[0m\u001b[0m\n\u001b[0m\u001b[1;32m      2\u001b[0m \u001b[0mviewer\u001b[0m \u001b[0;34m=\u001b[0m \u001b[0mAppViewer\u001b[0m\u001b[0;34m(\u001b[0m\u001b[0mport\u001b[0m\u001b[0;34m=\u001b[0m\u001b[0;36m8050\u001b[0m\u001b[0;34m)\u001b[0m\u001b[0;34m\u001b[0m\u001b[0;34m\u001b[0m\u001b[0m\n\u001b[1;32m      3\u001b[0m \u001b[0mviewer\u001b[0m\u001b[0;34m.\u001b[0m\u001b[0mshow\u001b[0m\u001b[0;34m(\u001b[0m\u001b[0mapp\u001b[0m\u001b[0;34m)\u001b[0m\u001b[0;34m\u001b[0m\u001b[0;34m\u001b[0m\u001b[0m\n",
      "\u001b[0;31mModuleNotFoundError\u001b[0m: No module named 'jupyterlab_dash'"
     ]
    }
   ],
   "source": [
    "from jupyterlab_dash import AppViewer\n",
    "viewer = AppViewer(port=8050)\n",
    "viewer.show(app)"
   ]
  }
 ],
 "metadata": {
  "kernelspec": {
   "display_name": "Python 3 (ipykernel)",
   "language": "python",
   "name": "python3"
  },
  "language_info": {
   "codemirror_mode": {
    "name": "ipython",
    "version": 3
   },
   "file_extension": ".py",
   "mimetype": "text/x-python",
   "name": "python",
   "nbconvert_exporter": "python",
   "pygments_lexer": "ipython3",
   "version": "3.8.10"
  }
 },
 "nbformat": 4,
 "nbformat_minor": 5
}
